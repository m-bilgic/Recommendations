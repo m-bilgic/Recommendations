{
 "metadata": {
  "name": "",
  "signature": "sha256:a64c2f7cfc2545872551fc065017efb39927bad33325060d045470708a0f7c0f"
 },
 "nbformat": 3,
 "nbformat_minor": 0,
 "worksheets": [
  {
   "cells": [
    {
     "cell_type": "heading",
     "level": 2,
     "metadata": {},
     "source": [
      "Import packages"
     ]
    },
    {
     "cell_type": "code",
     "collapsed": false,
     "input": [
      "%matplotlib inline\n",
      "import numpy as np\n",
      "import scipy as sp\n",
      "import matplotlib.pyplot as plt\n",
      "\n",
      "import pandas as pd"
     ],
     "language": "python",
     "metadata": {},
     "outputs": [],
     "prompt_number": 1
    },
    {
     "cell_type": "heading",
     "level": 2,
     "metadata": {},
     "source": [
      "Load the data"
     ]
    },
    {
     "cell_type": "code",
     "collapsed": false,
     "input": [
      "#read data from file \n",
      "names1 = ['MovieID', 'Title',  'Genres']\n",
      "moviedata = pd.read_csv(\"/Users/leslieniu/Desktop/ml-10M100K/movies.dat\", sep='::', names=names1)\n",
      "\n",
      "\n",
      "names2 = ['UserID', 'MovieID', 'Rating', '']\n",
      "rating = pd.read_csv(\"/Users/leslieniu/Desktop/ml-10M100K/ratings.dat\", sep='::', names=names2,usecols=range(3))\n",
      "\n",
      "names3 =['UserID', 'MovieID', 'Tag','']\n",
      "tag = pd.read_csv(\"/Users/leslieniu/Desktop/ml-10M100K/tags.dat\", sep='::', names=names3,usecols=range(3))"
     ],
     "language": "python",
     "metadata": {},
     "outputs": [
      {
       "output_type": "stream",
       "stream": "stderr",
       "text": [
        "/usr/local/lib/python2.7/site-packages/pandas/io/parsers.py:639: ParserWarning: Falling back to the 'python' engine because the 'c' engine does not support regex separators; you can avoid this warning by specifying engine='python'.\n",
        "  ParserWarning)\n"
       ]
      }
     ],
     "prompt_number": 2
    },
    {
     "cell_type": "heading",
     "level": 2,
     "metadata": {},
     "source": [
      "Group data"
     ]
    },
    {
     "cell_type": "code",
     "collapsed": false,
     "input": [
      "#merge the rating and moviedata\n",
      "rm_data = pd.merge(rating,moviedata)\n",
      "#merge the rating and tag data\n",
      "rt_data = pd.merge(rating,tag)"
     ],
     "language": "python",
     "metadata": {},
     "outputs": [],
     "prompt_number": 3
    },
    {
     "cell_type": "heading",
     "level": 3,
     "metadata": {},
     "source": [
      "1.Group the rating_movie data by UserID"
     ]
    },
    {
     "cell_type": "code",
     "collapsed": false,
     "input": [
      "tmp_rm = rm_data[['UserID','MovieID','Rating','Title','Genres']]\n",
      "print tmp_rm.head()\n",
      "print len(tmp_rm)"
     ],
     "language": "python",
     "metadata": {},
     "outputs": [
      {
       "output_type": "stream",
       "stream": "stdout",
       "text": [
        "   UserID  MovieID  Rating             Title          Genres\n",
        "0       1      122     5.0  Boomerang (1992)  Comedy|Romance\n",
        "1     139      122     3.0  Boomerang (1992)  Comedy|Romance\n",
        "2     149      122     2.5  Boomerang (1992)  Comedy|Romance\n",
        "3     182      122     3.0  Boomerang (1992)  Comedy|Romance\n",
        "4     215      122     4.5  Boomerang (1992)  Comedy|Romance\n",
        "10000054\n"
       ]
      }
     ],
     "prompt_number": 4
    },
    {
     "cell_type": "code",
     "collapsed": false,
     "input": [
      "grp_rm = tmp_rm.groupby('UserID')\n",
      "len(grp_rm)  # 69879:the number of users give the rating\n",
      "\n",
      "groups_rm = dict(list(grp_rm))\n",
      "#groups_rm[1]"
     ],
     "language": "python",
     "metadata": {},
     "outputs": [],
     "prompt_number": 5
    },
    {
     "cell_type": "heading",
     "level": 3,
     "metadata": {},
     "source": [
      "2.Group the rating_tag data by UserID"
     ]
    },
    {
     "cell_type": "code",
     "collapsed": false,
     "input": [
      "tmp_rt = rt_data[['UserID','MovieID','Rating','Tag']]\n",
      "print tmp_rt.head()\n",
      "print len(tmp_rt)"
     ],
     "language": "python",
     "metadata": {},
     "outputs": [
      {
       "output_type": "stream",
       "stream": "stdout",
       "text": [
        "   UserID  MovieID  Rating                                    Tag\n",
        "0      48    54775     4.5  The Director Should be given a grammy\n",
        "1      75      353     3.5                                 tissit\n",
        "2      78     4223     5.0                            want to own\n",
        "3     175     2819     5.0                           skullduggery\n",
        "4     175    51540     4.0                             bad ending\n",
        "44805\n"
       ]
      }
     ],
     "prompt_number": 6
    },
    {
     "cell_type": "code",
     "collapsed": false,
     "input": [
      "grp_rt = tmp_rt.groupby('UserID')\n",
      "#len(grp_rt)  #2026:the number of users both give rating and tag\n",
      "\n",
      "groups_rt = dict(list(grp_rt))\n",
      "#groups_rt[49935]"
     ],
     "language": "python",
     "metadata": {},
     "outputs": [],
     "prompt_number": 7
    },
    {
     "cell_type": "heading",
     "level": 3,
     "metadata": {},
     "source": [
      "3.how many users both give rating and tag"
     ]
    },
    {
     "cell_type": "code",
     "collapsed": false,
     "input": [
      "user_r_t = rt_data['UserID'].value_counts()\n",
      "u_r_t=pd.DataFrame({'UserID': user_r_t.index})\n",
      "#u_r_t"
     ],
     "language": "python",
     "metadata": {},
     "outputs": [],
     "prompt_number": 8
    },
    {
     "cell_type": "heading",
     "level": 2,
     "metadata": {},
     "source": [
      "Random choose 100 users from rating data"
     ]
    },
    {
     "cell_type": "code",
     "collapsed": false,
     "input": [
      "np.random.seed(20)  #set the seed=20\n",
      "df = pd.DataFrame(u_r_t)\n",
      "random_user=df.loc[np.random.choice(df.index, 100, replace=False)]\n",
      "#random_user"
     ],
     "language": "python",
     "metadata": {},
     "outputs": [],
     "prompt_number": 9
    },
    {
     "cell_type": "code",
     "collapsed": false,
     "input": [
      "#number of distinct tags\n",
      "distinct_tag = tag['Tag'].value_counts()\n",
      "d_tag=pd.DataFrame({'Distinct Tag Count': distinct_tag})\n",
      "\n",
      "#Number of distinct movies in the rating data\n",
      "distinct_movie_rating = rating['MovieID'].value_counts()\n",
      "dmf=pd.DataFrame({'Distinct': distinct_movie_rating})\n",
      "\n",
      "#The average rating for each movie\n",
      "grp = tmp_rm.groupby('MovieID')\n",
      "mean_rating = grp.mean()\n",
      "\n",
      "genres = set()\n",
      "for m in moviedata.Genres:\n",
      "    genres.update(g for g in m.split('|'))\n",
      "genres = sorted(genres)\n",
      "for genre in genres:\n",
      "    moviedata[genre] = [genre in movie.split('|') for movie in moviedata.Genres]\n",
      "\n",
      "movie_genres = moviedata[genres].sum().index[1:]\n"
     ],
     "language": "python",
     "metadata": {},
     "outputs": [],
     "prompt_number": 10
    },
    {
     "cell_type": "heading",
     "level": 2,
     "metadata": {},
     "source": [
      "Build database for each random user"
     ]
    },
    {
     "cell_type": "code",
     "collapsed": false,
     "input": [
      "l1= []\n",
      "l2= []\n",
      "l3 =[]\n",
      "l4 =[]\n",
      "l5 =[]\n",
      "l6 =[]\n",
      "l7 =[]\n",
      "for user in random_user.UserID:\n",
      "    \n",
      "    #####Split movie Genre into 0 or 1#####\n",
      "    \n",
      "    data1 = pd.DataFrame(groups_rm[user]).reset_index() #replace the index with simple sequential numbers\n",
      "    #genre_iter = (set(x.split('|')) for x in data1.Genres)\n",
      "    #movie_genres = sorted(set.union(*genre_iter))\n",
      "    dummies = pd.DataFrame(np.zeros((len(data1), len(movie_genres))), columns=movie_genres)\n",
      "    for i, gen in enumerate(data1.Genres):\n",
      "        dummies.ix[i, gen.split('|')] = 1\n",
      "        \n",
      "    movies_table = data1.join(dummies)\n",
      "    l4.append(user)\n",
      "    \n",
      "    \n",
      "    \n",
      "    \n",
      "    #####read tags into 0 and 1#####\n",
      "    \n",
      "    data2 = pd.DataFrame(groups_rt[user]).reset_index() #replace the index with simple sequ                                              ential numbers\n",
      "    dummies_tag = pd.DataFrame(np.zeros((len(data2), len(distinct_tag))), columns=d_tag.index)\n",
      "    for i, tag in enumerate(data2.Tag):\n",
      "        dummies_tag.ix[i, tag] = 1\n",
      "        #print dummies_tag.ix[i]\n",
      "    #tag_table = data2.join(dummies_tag)\n",
      "    \n",
      "    \n",
      "    \n",
      "    #####Compute mean ratings#####\n",
      "    \n",
      "    ratingname= ['meanrating']\n",
      "    dummies1 = pd.DataFrame(np.zeros((len(data1), 1)), columns = ratingname)\n",
      "    j = 0\n",
      "    for p in movies_table.MovieID:\n",
      "        if j <= len(dummies1):\n",
      "            a = dmf[dmf.index == p].Distinct.values #number of ratings for this movie\n",
      "            b = mean_rating[mean_rating.index == p].Rating.values #all uers mean rating for this moive\n",
      "            c= movies_table[movies_table.MovieID == p].Rating.values #the rating of this movie that the user give\n",
      "            d = dmf[dmf.index == p].Distinct.values -1 #number of ratings for this movie except this user\n",
      "            \n",
      "            if d != 0:\n",
      "                meanrating = (a*b-c)/d\n",
      "            else:\n",
      "                meanrating = b\n",
      "            dummies1.ix[j]= meanrating\n",
      "            j = j+1\n",
      "    tmp_table = movies_table.join(dummies1)\n",
      "    \n",
      "    \n",
      "    #####Compute the number of ratings#####\n",
      "    \n",
      "    ratingname= ['rating_num']\n",
      "    dummies2 = pd.DataFrame(np.zeros((len(data1), 1)), columns = ratingname)\n",
      "    m = 0\n",
      "    for n in movies_table.MovieID:\n",
      "        if m <= len(dummies1):\n",
      "            a = dmf[dmf.index == n].Distinct.values #number of ratings for this movie\n",
      "            dummies2.ix[m]= a\n",
      "            m = m+1\n",
      "    tmp_table2 = tmp_table.join(dummies2)\n",
      "    \n",
      "    #####Compute the average rating for each user#####\n",
      "    average_rating = round(tmp_table2.Rating.mean(),1)\n",
      "    l5.append(average_rating)\n",
      "    \n",
      "    #####Compute the number of ratings for each user#####\n",
      "    rating_num_tmp = tmp_table2.UserID.value_counts()\n",
      "    rating_num = rating_num_tmp.values\n",
      "    l6.append(rating_num)\n",
      "    \n",
      "    #####Compute the genre distribution#####\n",
      "    \n",
      "\n",
      "    \n",
      "    \n",
      " \n",
      "     \n",
      "    #####cross validation#####\n",
      "    #split data into training set and testing set\n",
      "    tmp_X = tmp_table2[['meanrating','rating_num']].join(dummies)\n",
      "    X = pd.concat([tmp_X,dummies_tag],axis=1).fillna(0).values\n",
      "    #print X\n",
      "    Y = tmp_table2[['Rating']].values\n",
      "    \n",
      "    \n",
      "    \n",
      "    \n",
      "    \n",
      "    from sklearn.cross_validation import train_test_split\n",
      "    X_train, X_test, Y_train, Y_test = train_test_split(X, Y, test_size=0.2, random_state=42)\n",
      "    \n",
      "    \n",
      "    #LinearRegression\n",
      "    \n",
      "    from sklearn.linear_model import LinearRegression\n",
      "    clf1 = LinearRegression()\n",
      "    clf1.fit(X_train,Y_train)\n",
      "    # The mean absolute error\n",
      "    mae1 = round(np.mean(np.abs(clf1.predict(X_test) - Y_test)),2)\n",
      "    #print (\"LinearRegression MAE: %.2f\" % np.mean(np.abs(clf1.predict(X_test) - Y_test)))\n",
      "    l1.append(mae1)\n",
      "    \n",
      "    #Ridge Regression\n",
      "    from sklearn.linear_model import Ridge\n",
      "    clf2 = Ridge(alpha=0.1)\n",
      "    clf2.fit(X_train,Y_train)\n",
      "    # The mean absolute error\n",
      "    mae2 = round(np.mean(np.abs(clf2.predict(X_test) - Y_test)),2)\n",
      "    #print (\"Ridge MAE: %.2f\" % np.mean(np.abs(clf2.predict(X_test) - Y_test)))\n",
      "    l2.append(mae2)\n",
      "    \n",
      "    #Lasso\n",
      "    from sklearn import linear_model\n",
      "    clf3 = linear_model.Lasso(alpha=10)\n",
      "    clf3.fit(X_train,Y_train)\n",
      "    # The mean absolute error\n",
      "    mae3 = round(np.mean(np.abs(clf3.predict(X_test) - Y_test)),2)\n",
      "    #print (\"Lasso MAE: %.2f\" % np.mean(np.abs(clf3.predict(X_test) - Y_test)))\n",
      "    l3.append(mae3)\n",
      "    \n",
      "    \n",
      "    #SVR\n",
      "    #from sklearn.svm import SVR\n",
      "    #clf4 = SVR(C=1.0, epsilon=0.2)\n",
      "    #clf4.fit(X_train,Y_train)\n",
      "    # The mean absolute error\n",
      "    #print (\"SVR MAE: %.2f\" % np.mean(np.abs(clf4.predict(X_test) - Y_test)))\n",
      "    \n",
      "    \n",
      "list1 = pd.DataFrame({'Linear MAE': l1})\n",
      "list2 = pd.DataFrame({'Ridge MAE': l2})\n",
      "list3 = pd.DataFrame({'Lasso MAE': l3})\n",
      "list4 = pd.DataFrame({'UserID': l4})\n",
      "list5 = pd.DataFrame({'avr_rating_user':l5})\n",
      "list6 = pd.DataFrame({'num_rating':l6})\n",
      "\n",
      "\n",
      "\n"
     ],
     "language": "python",
     "metadata": {},
     "outputs": [],
     "prompt_number": 11
    },
    {
     "cell_type": "code",
     "collapsed": false,
     "input": [
      "MAE_table = list4.join(list1).join(list2).join(list3).head(10)\n",
      "print MAE_table"
     ],
     "language": "python",
     "metadata": {},
     "outputs": [
      {
       "output_type": "stream",
       "stream": "stdout",
       "text": [
        "   UserID  Linear MAE  Ridge MAE  Lasso MAE\n",
        "0   49935        0.55       0.55       0.66\n",
        "1   59474        0.71       0.70       0.71\n",
        "2    5593        0.50       0.46       0.32\n",
        "3    6119        0.45       0.45       0.48\n",
        "4   37987        0.94       0.94       0.96\n",
        "5   21668        0.66       0.65       0.59\n",
        "6   64264        0.60       0.53       0.53\n",
        "7   69668        0.50       0.49       0.57\n",
        "8   63700        0.55       0.48       0.37\n",
        "9   55403        1.02       1.02       1.02\n"
       ]
      }
     ],
     "prompt_number": 12
    },
    {
     "cell_type": "code",
     "collapsed": false,
     "input": [
      "list_mean1 = pd.DataFrame({'Linear MAE mean': pd.DataFrame(l1).mean()})\n",
      "list_mean2 = pd.DataFrame({'Ridge MAE mean': pd.DataFrame(l2).mean()})\n",
      "list_mean3 = pd.DataFrame({'Lasso MAE mean': pd.DataFrame(l3).mean()})\n",
      "MAE_mean_table = list_mean1.join(list_mean2).join(list_mean3)\n",
      "print MAE_mean_table"
     ],
     "language": "python",
     "metadata": {},
     "outputs": [
      {
       "output_type": "stream",
       "stream": "stdout",
       "text": [
        "   Linear MAE mean  Ridge MAE mean  Lasso MAE mean\n",
        "0           0.8244           0.688          0.7119\n"
       ]
      }
     ],
     "prompt_number": 13
    },
    {
     "cell_type": "code",
     "collapsed": false,
     "input": [
      "#####choose one user which UserID = 49935\n",
      "\n",
      "\n",
      "#####Split movie Genre into 0 or 1#####\n",
      "data1 = pd.DataFrame(groups_rm[49935]).reset_index() #replace the index with simple sequential numbers\n",
      "dummies = pd.DataFrame(np.zeros((len(data1), len(movie_genres))), columns=movie_genres)\n",
      "for i, gen in enumerate(data1.Genres):\n",
      "    dummies.ix[i, gen.split('|')] = 1\n",
      "movies_table = data1.join(dummies)\n",
      "\n",
      "\n",
      "#####read tags into 0 and 1#####\n",
      "data2 = pd.DataFrame(groups_rt[49935]).reset_index() #replace the index with simple sequ                                              ential numbers\n",
      "dummies_tag = pd.DataFrame(np.zeros((len(data2), len(distinct_tag))), columns=d_tag.index)\n",
      "for i, tag in enumerate(data2.Tag):\n",
      "    dummies_tag.ix[i, tag] = 1\n",
      "\n",
      "\n",
      "#####Compute mean ratings#####\n",
      "ratingname= ['meanrating']\n",
      "dummies1 = pd.DataFrame(np.zeros((len(data1), 1)), columns = ratingname)\n",
      "j = 0\n",
      "for p in movies_table.MovieID:\n",
      "    if j <= len(dummies1):\n",
      "        a = dmf[dmf.index == p].Distinct.values #number of ratings for this movie\n",
      "        b = mean_rating[mean_rating.index == p].Rating.values #all uers mean rating for this moive\n",
      "        c= movies_table[movies_table.MovieID == p].Rating.values #the rating of this movie that the user give\n",
      "        d = dmf[dmf.index == p].Distinct.values -1 #number of ratings for this movie except this user\n",
      "            \n",
      "        if d != 0:\n",
      "            meanrating = (a*b-c)/d\n",
      "        else:\n",
      "            meanrating = b\n",
      "        dummies1.ix[j]= meanrating\n",
      "        j = j+1\n",
      "tmp_table = movies_table.join(dummies1)\n",
      "\n",
      "\n",
      "#####Compute the number of ratings#####\n",
      "ratingname= ['rating_num']\n",
      "dummies2 = pd.DataFrame(np.zeros((len(data1), 1)), columns = ratingname)\n",
      "m = 0\n",
      "for n in movies_table.MovieID:\n",
      "    if m <= len(dummies1):\n",
      "        a = dmf[dmf.index == n].Distinct.values #number of ratings for this movie\n",
      "        dummies2.ix[m]= a\n",
      "        m = m+1\n",
      "tmp_table2 = tmp_table.join(dummies2)\n",
      "\n",
      "\n",
      "    \n",
      "\n",
      "\n"
     ],
     "language": "python",
     "metadata": {},
     "outputs": [],
     "prompt_number": 14
    },
    {
     "cell_type": "code",
     "collapsed": false,
     "input": [
      "#####Compute the average rating for this user#####\n",
      "average_rating = round(tmp_table2.Rating.mean(),1)\n",
      "print ('The average rating of this user is        : %0.2f' % average_rating)\n",
      "\n",
      "#####compute the overall rating \n",
      "print ('The overall average rating is             : %0.2f' % rm_data.Rating.mean())\n",
      "\n",
      "#####Compute the number of ratings for each user#####\n",
      "rating_num_tmp = tmp_table2.UserID.value_counts()\n",
      "rating_num = int(rating_num_tmp.values)\n",
      "print ('The number of movies this user rated      : %d' % rating_num) \n",
      "\n",
      "#####average rating numbers for each user#####\n",
      "count = rm_data['UserID'].value_counts()\n",
      "print ('On average number of rated movie per user : %d' % count.mean()) \n",
      "\n",
      "    \n",
      "#####Compute the genre distribution#####"
     ],
     "language": "python",
     "metadata": {},
     "outputs": [
      {
       "output_type": "stream",
       "stream": "stdout",
       "text": [
        "The average rating of this user is        : 3.60\n",
        "The overall average rating is             : 3.51"
       ]
      },
      {
       "output_type": "stream",
       "stream": "stdout",
       "text": [
        "\n",
        "The number of movies this user rated      : 205\n",
        "On average number of rated movie per user : 143"
       ]
      },
      {
       "output_type": "stream",
       "stream": "stdout",
       "text": [
        "\n"
       ]
      }
     ],
     "prompt_number": 64
    },
    {
     "cell_type": "code",
     "collapsed": false,
     "input": [
      "#####which genres does the user like######\n",
      "tmp_X = tmp_table2[['meanrating','rating_num']].join(dummies)\n",
      "X = tmp_table2[['meanrating','rating_num']].join(dummies).values\n",
      "Y = tmp_table2[['Rating']].values\n",
      "\n",
      "#Lasso\n",
      "from sklearn.linear_model import Lasso\n",
      "lasso = Lasso(alpha=0.1)\n",
      "res = lasso.fit(X,Y)\n",
      "\n",
      "    \n",
      "#####which genres does the user like######\n",
      "\n",
      "genre_sort_asc = np.argsort(res.coef_)\n",
      "genre_sort_desc = np.argsort(res.coef_)[::-1][:n]\n",
      "\n",
      "print tmp_X.columns.values[genre_sort_asc]\n",
      "print tmp_X.columns.values[genre_sort_desc]"
     ],
     "language": "python",
     "metadata": {},
     "outputs": [
      {
       "output_type": "stream",
       "stream": "stdout",
       "text": [
        "['rating_num' 'Fantasy' 'Thriller' 'Sci-Fi' 'Romance' 'Mystery' 'Musical'\n",
        " 'IMAX' 'Horror' 'Film-Noir' 'Western' 'Drama' 'Documentary' 'Crime'\n",
        " 'Comedy' 'Children' 'Animation' 'Adventure' 'Action' 'War' 'meanrating']\n",
        "['meanrating' 'War' 'Action' 'Adventure' 'Animation' 'Children' 'Comedy'\n",
        " 'Crime' 'Documentary' 'Drama' 'Western' 'Film-Noir' 'Horror' 'IMAX'\n",
        " 'Musical' 'Mystery' 'Romance' 'Sci-Fi' 'Thriller' 'Fantasy' 'rating_num']\n"
       ]
      }
     ],
     "prompt_number": 16
    },
    {
     "cell_type": "code",
     "collapsed": false,
     "input": [
      "print res.coef_"
     ],
     "language": "python",
     "metadata": {},
     "outputs": [
      {
       "output_type": "stream",
       "stream": "stdout",
       "text": [
        "[  7.80319649e-01  -1.81206009e-05  -0.00000000e+00  -0.00000000e+00\n",
        "   0.00000000e+00   0.00000000e+00  -0.00000000e+00   0.00000000e+00\n",
        "   0.00000000e+00   0.00000000e+00   0.00000000e+00   0.00000000e+00\n",
        "   0.00000000e+00   0.00000000e+00  -0.00000000e+00   0.00000000e+00\n",
        "  -0.00000000e+00  -0.00000000e+00   0.00000000e+00  -0.00000000e+00\n",
        "  -0.00000000e+00]\n"
       ]
      }
     ],
     "prompt_number": 65
    },
    {
     "cell_type": "code",
     "collapsed": false,
     "input": [
      "genre_sort_asc = np.argsort(res.coef_[2:21])\n",
      "genre_sort_desc = np.argsort(res.coef_[2:21])[::-1][:n]\n",
      "print tmp_X.columns.values[2:21][genre_sort_asc]\n",
      "print tmp_X.columns.values[2:21][genre_sort_desc]\n"
     ],
     "language": "python",
     "metadata": {},
     "outputs": [
      {
       "output_type": "stream",
       "stream": "stdout",
       "text": [
        "['Action' 'Thriller' 'Sci-Fi' 'Romance' 'Mystery' 'Musical' 'IMAX' 'Horror'\n",
        " 'War' 'Film-Noir' 'Drama' 'Documentary' 'Crime' 'Comedy' 'Children'\n",
        " 'Animation' 'Adventure' 'Fantasy' 'Western']\n",
        "['Western' 'Fantasy' 'Adventure' 'Animation' 'Children' 'Comedy' 'Crime'\n",
        " 'Documentary' 'Drama' 'Film-Noir' 'War' 'Horror' 'IMAX' 'Musical'\n",
        " 'Mystery' 'Romance' 'Sci-Fi' 'Thriller' 'Action']\n"
       ]
      }
     ],
     "prompt_number": 17
    },
    {
     "cell_type": "code",
     "collapsed": false,
     "input": [],
     "language": "python",
     "metadata": {},
     "outputs": [],
     "prompt_number": 17
    }
   ],
   "metadata": {}
  }
 ]
}