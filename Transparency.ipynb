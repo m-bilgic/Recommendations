{
 "metadata": {
  "name": "",
  "signature": "sha256:5547470ddba28e9687bd51a89d154b13a92f16d29cb3ca6e89e5d864a6c9df44"
 },
 "nbformat": 3,
 "nbformat_minor": 0,
 "worksheets": [
  {
   "cells": [
    {
     "cell_type": "heading",
     "level": 2,
     "metadata": {},
     "source": [
      "Import packages"
     ]
    },
    {
     "cell_type": "code",
     "collapsed": false,
     "input": [
      "%matplotlib inline\n",
      "import numpy as np\n",
      "import scipy as sp\n",
      "import matplotlib.pyplot as plt\n",
      "\n",
      "import pandas as pd"
     ],
     "language": "python",
     "metadata": {},
     "outputs": [],
     "prompt_number": 48
    },
    {
     "cell_type": "heading",
     "level": 2,
     "metadata": {},
     "source": [
      "Load the data"
     ]
    },
    {
     "cell_type": "code",
     "collapsed": false,
     "input": [
      "#read data from file \n",
      "names1 = ['MovieID', 'Title',  'Genres']\n",
      "moviedata = pd.read_csv(\"/Users/leslieniu/Desktop/ml-10M100K/movies.dat\", sep='::', names=names1)\n",
      "\n",
      "\n",
      "names2 = ['UserID', 'MovieID', 'Rating', '']\n",
      "rating = pd.read_csv(\"/Users/leslieniu/Desktop/ml-10M100K/ratings.dat\", sep='::', names=names2,usecols=range(3))\n",
      "\n",
      "names3 =['UserID', 'MovieID', 'Tag','']\n",
      "tag = pd.read_csv(\"/Users/leslieniu/Desktop/ml-10M100K/tags.dat\", sep='::', names=names3,usecols=range(3))"
     ],
     "language": "python",
     "metadata": {},
     "outputs": [],
     "prompt_number": 49
    },
    {
     "cell_type": "heading",
     "level": 2,
     "metadata": {},
     "source": [
      "Group data"
     ]
    },
    {
     "cell_type": "code",
     "collapsed": false,
     "input": [
      "#merge the rating and moviedata\n",
      "rm_data = pd.merge(rating,moviedata)\n",
      "#merge the rating and tag data\n",
      "rt_data = pd.merge(rating,tag)"
     ],
     "language": "python",
     "metadata": {},
     "outputs": [],
     "prompt_number": 50
    },
    {
     "cell_type": "heading",
     "level": 3,
     "metadata": {},
     "source": [
      "1.Group the rating_movie data by UserID"
     ]
    },
    {
     "cell_type": "code",
     "collapsed": false,
     "input": [
      "tmp_rm = rm_data[['UserID','MovieID','Rating','Title','Genres']]\n",
      "print tmp_rm.head()\n",
      "print len(tmp_rm)"
     ],
     "language": "python",
     "metadata": {},
     "outputs": [
      {
       "output_type": "stream",
       "stream": "stdout",
       "text": [
        "   UserID  MovieID  Rating             Title          Genres\n",
        "0       1      122     5.0  Boomerang (1992)  Comedy|Romance\n",
        "1     139      122     3.0  Boomerang (1992)  Comedy|Romance\n",
        "2     149      122     2.5  Boomerang (1992)  Comedy|Romance\n",
        "3     182      122     3.0  Boomerang (1992)  Comedy|Romance\n",
        "4     215      122     4.5  Boomerang (1992)  Comedy|Romance\n",
        "10000054\n"
       ]
      }
     ],
     "prompt_number": 51
    },
    {
     "cell_type": "code",
     "collapsed": false,
     "input": [
      "grp_rm = tmp_rm.groupby('UserID')\n",
      "len(grp_rm)  # 69879:the number of users give the rating\n",
      "\n",
      "groups_rm = dict(list(grp_rm))\n",
      "#groups_rm[1]"
     ],
     "language": "python",
     "metadata": {},
     "outputs": [],
     "prompt_number": 52
    },
    {
     "cell_type": "heading",
     "level": 3,
     "metadata": {},
     "source": [
      "2.Group the rating_tag data by UserID"
     ]
    },
    {
     "cell_type": "code",
     "collapsed": false,
     "input": [
      "tmp_rt = rt_data[['UserID','MovieID','Rating','Tag']]\n",
      "print tmp_rt.head()\n",
      "print len(tmp_rt)"
     ],
     "language": "python",
     "metadata": {},
     "outputs": [
      {
       "output_type": "stream",
       "stream": "stdout",
       "text": [
        "   UserID  MovieID  Rating                                    Tag\n",
        "0      48    54775     4.5  The Director Should be given a grammy\n",
        "1      75      353     3.5                                 tissit\n",
        "2      78     4223     5.0                            want to own\n",
        "3     175     2819     5.0                           skullduggery\n",
        "4     175    51540     4.0                             bad ending\n",
        "44805\n"
       ]
      }
     ],
     "prompt_number": 53
    },
    {
     "cell_type": "code",
     "collapsed": false,
     "input": [
      "grp_rt = tmp_rt.groupby('UserID')\n",
      "#len(grp_rt)  #2026:the number of users both give rating and tag\n",
      "\n",
      "groups_rt = dict(list(grp_rt))\n",
      "#groups_rt[49935]"
     ],
     "language": "python",
     "metadata": {},
     "outputs": [],
     "prompt_number": 54
    },
    {
     "cell_type": "heading",
     "level": 3,
     "metadata": {},
     "source": [
      "3.how many users both give rating and tag"
     ]
    },
    {
     "cell_type": "code",
     "collapsed": false,
     "input": [
      "user_r_t = rt_data['UserID'].value_counts()\n",
      "u_r_t=pd.DataFrame({'UserID': user_r_t.index})\n",
      "#u_r_t"
     ],
     "language": "python",
     "metadata": {},
     "outputs": [],
     "prompt_number": 55
    },
    {
     "cell_type": "heading",
     "level": 2,
     "metadata": {},
     "source": [
      "Random choose 100 users from rating data"
     ]
    },
    {
     "cell_type": "code",
     "collapsed": false,
     "input": [
      "np.random.seed(20)  #set the seed=20\n",
      "df = pd.DataFrame(u_r_t)\n",
      "random_user=df.loc[np.random.choice(df.index, 100, replace=False)]\n",
      "#random_user"
     ],
     "language": "python",
     "metadata": {},
     "outputs": [],
     "prompt_number": 56
    },
    {
     "cell_type": "code",
     "collapsed": false,
     "input": [
      "#number of distinct tags\n",
      "distinct_tag = tag['Tag'].value_counts()\n",
      "d_tag=pd.DataFrame({'Distinct Tag Count': distinct_tag})\n",
      "\n",
      "#Number of distinct movies in the rating data\n",
      "distinct_movie_rating = rating['MovieID'].value_counts()\n",
      "dmf=pd.DataFrame({'Distinct': distinct_movie_rating})\n",
      "\n",
      "#The average rating for each movie\n",
      "grp = tmp_rm.groupby('MovieID')\n",
      "mean_rating = grp.mean()\n",
      "\n",
      "genres = set()\n",
      "for m in moviedata.Genres:\n",
      "    genres.update(g for g in m.split('|'))\n",
      "genres = sorted(genres)\n",
      "for genre in genres:\n",
      "    moviedata[genre] = [genre in movie.split('|') for movie in moviedata.Genres]\n",
      "\n",
      "movie_genres = moviedata[genres].sum().index[1:]\n"
     ],
     "language": "python",
     "metadata": {},
     "outputs": [],
     "prompt_number": 57
    },
    {
     "cell_type": "heading",
     "level": 2,
     "metadata": {},
     "source": [
      "Build database for each random user"
     ]
    },
    {
     "cell_type": "code",
     "collapsed": false,
     "input": [
      "l1= []\n",
      "l2= []\n",
      "l3 =[]\n",
      "l4 =[]\n",
      "l5 =[]\n",
      "l6 =[]\n",
      "l7 =[]\n",
      "for user in random_user.UserID:\n",
      "    \n",
      "    #####Split movie Genre into 0 or 1#####\n",
      "    \n",
      "    data1 = pd.DataFrame(groups_rm[user]).reset_index() #replace the index with simple sequential numbers\n",
      "    #genre_iter = (set(x.split('|')) for x in data1.Genres)\n",
      "    #movie_genres = sorted(set.union(*genre_iter))\n",
      "    dummies = pd.DataFrame(np.zeros((len(data1), len(movie_genres))), columns=movie_genres)\n",
      "    for i, gen in enumerate(data1.Genres):\n",
      "        dummies.ix[i, gen.split('|')] = 1\n",
      "        \n",
      "    movies_table = data1.join(dummies)\n",
      "    l4.append(user)\n",
      "    \n",
      "    \n",
      "    \n",
      "    \n",
      "    #####read tags into 0 and 1#####\n",
      "    \n",
      "    data2 = pd.DataFrame(groups_rt[user]).reset_index() #replace the index with simple sequ                                              ential numbers\n",
      "    dummies_tag = pd.DataFrame(np.zeros((len(data2), len(distinct_tag))), columns=d_tag.index)\n",
      "    for i, tag in enumerate(data2.Tag):\n",
      "        dummies_tag.ix[i, tag] = 1\n",
      "        #print dummies_tag.ix[i]\n",
      "    #tag_table = data2.join(dummies_tag)\n",
      "    \n",
      "    \n",
      "    \n",
      "    #####Compute mean ratings#####\n",
      "    \n",
      "    ratingname= ['meanrating']\n",
      "    dummies1 = pd.DataFrame(np.zeros((len(data1), 1)), columns = ratingname)\n",
      "    j = 0\n",
      "    for p in movies_table.MovieID:\n",
      "        if j <= len(dummies1):\n",
      "            a = dmf[dmf.index == p].Distinct.values #number of ratings for this movie\n",
      "            b = mean_rating[mean_rating.index == p].Rating.values #all uers mean rating for this moive\n",
      "            c= movies_table[movies_table.MovieID == p].Rating.values #the rating of this movie that the user give\n",
      "            d = dmf[dmf.index == p].Distinct.values -1 #number of ratings for this movie except this user\n",
      "            \n",
      "            if d != 0:\n",
      "                meanrating = (a*b-c)/d\n",
      "            else:\n",
      "                meanrating = b\n",
      "            dummies1.ix[j]= meanrating\n",
      "            j = j+1\n",
      "    tmp_table = movies_table.join(dummies1)\n",
      "    \n",
      "    \n",
      "    #####Compute the number of ratings#####\n",
      "    \n",
      "    ratingname= ['rating_num']\n",
      "    dummies2 = pd.DataFrame(np.zeros((len(data1), 1)), columns = ratingname)\n",
      "    m = 0\n",
      "    for n in movies_table.MovieID:\n",
      "        if m <= len(dummies1):\n",
      "            a = dmf[dmf.index == n].Distinct.values #number of ratings for this movie\n",
      "            dummies2.ix[m]= a\n",
      "            m = m+1\n",
      "    tmp_table2 = tmp_table.join(dummies2)\n",
      "    \n",
      "    #####Compute the average rating for each user#####\n",
      "    average_rating = tmp_table2.Rating.mean()\n",
      "    l5.append(average_rating)\n",
      "    \n",
      "    #####Compute the number of ratings for each user#####\n",
      "    rating_num_tmp = tmp_table2.UserID.value_counts()\n",
      "    rating_num = rating_num_tmp.values\n",
      "    l6.append(rating_num)\n",
      "    \n",
      "    #####Compute the genre distribution#####\n",
      "    \n",
      "\n",
      "    \n",
      "    \n",
      " \n",
      "     \n",
      "    #####cross validation#####\n",
      "    #split data into training set and testing set\n",
      "    tmp_X = tmp_table2[['UserID','MovieID','meanrating','rating_num']].join(dummies)\n",
      "    X = pd.concat([tmp_X,dummies_tag],axis=1).fillna(0).values\n",
      "    #print X\n",
      "    Y = tmp_table2[['Rating']].values\n",
      "    \n",
      "    \n",
      "    \n",
      "    \n",
      "    \n",
      "    from sklearn.cross_validation import train_test_split\n",
      "    X_train, X_test, Y_train, Y_test = train_test_split(X, Y, test_size=0.2, random_state=42)\n",
      "    \n",
      "    \n",
      "    #LinearRegression\n",
      "    \n",
      "    from sklearn.linear_model import LinearRegression\n",
      "    clf1 = LinearRegression()\n",
      "    clf1.fit(X_train,Y_train)\n",
      "    # The mean absolute error\n",
      "    mae1 = np.mean(np.abs(clf1.predict(X_test) - Y_test))\n",
      "    #print (\"LinearRegression MAE: %.2f\" % np.mean(np.abs(clf1.predict(X_test) - Y_test)))\n",
      "    l1.append(mae1)\n",
      "    \n",
      "    #Ridge Regression\n",
      "    from sklearn.linear_model import Ridge\n",
      "    clf2 = Ridge(alpha=0.1)\n",
      "    clf2.fit(X_train,Y_train)\n",
      "    # The mean absolute error\n",
      "    mae2 = np.mean(np.abs(clf2.predict(X_test) - Y_test))\n",
      "    #print (\"Ridge MAE: %.2f\" % np.mean(np.abs(clf2.predict(X_test) - Y_test)))\n",
      "    l2.append(mae2)\n",
      "    \n",
      "    #Lasso\n",
      "    from sklearn import linear_model\n",
      "    clf3 = linear_model.Lasso(alpha=10)\n",
      "    clf3.fit(X_train,Y_train)\n",
      "    # The mean absolute error\n",
      "    mae3 = np.mean(np.abs(clf3.predict(X_test) - Y_test))\n",
      "    #print (\"Lasso MAE: %.2f\" % np.mean(np.abs(clf3.predict(X_test) - Y_test)))\n",
      "    l3.append(mae3)\n",
      "    \n",
      "    \n",
      "    #SVR\n",
      "    #from sklearn.svm import SVR\n",
      "    #clf4 = SVR(C=1.0, epsilon=0.2)\n",
      "    #clf4.fit(X_train,Y_train)\n",
      "    # The mean absolute error\n",
      "    #print (\"SVR MAE: %.2f\" % np.mean(np.abs(clf4.predict(X_test) - Y_test)))\n",
      "    \n",
      "    \n",
      "list1 = pd.DataFrame({'LinearRegression MAE': l1})\n",
      "list2 = pd.DataFrame({'Ridge MAE': l2})\n",
      "list3 = pd.DataFrame({'Lasso MAE': l3})\n",
      "list4 = pd.DataFrame({'UserID': l4})\n",
      "list5 = pd.DataFrame({'avr_rating_user':l5})\n",
      "list6 = pd.DataFrame({'num_rating':l6})\n",
      "\n",
      "\n",
      "\n"
     ],
     "language": "python",
     "metadata": {},
     "outputs": [],
     "prompt_number": 59
    },
    {
     "cell_type": "code",
     "collapsed": false,
     "input": [
      "MAE_table = list4.join(list1).join(list2).join(list3).join(list5).join(list6)\n",
      "print pd.DataFrame(MAE_table)"
     ],
     "language": "python",
     "metadata": {},
     "outputs": [
      {
       "output_type": "stream",
       "stream": "stdout",
       "text": [
        "    UserID  LinearRegression MAE  Ridge MAE  Lasso MAE  avr_rating_user  \\\n",
        "0    49935              0.548780   0.562143   0.666693         3.573171   \n",
        "1    59474              0.690609   0.675744   0.703014         4.134731   \n",
        "2     5593              0.500223   0.457572   0.318471         3.869565   \n",
        "3     6119              9.749421   0.436764   0.479254         3.201733   \n",
        "4    37987              0.925305   0.909574   0.961802         2.743902   \n",
        "5    21668              0.632340   0.630812   0.590566         3.706349   \n",
        "6    64264          10720.291667   0.528621   0.520799         4.209302   \n",
        "7    69668              0.525862   0.489629   0.572299         3.414634   \n",
        "8    63700              0.531018   0.461431   0.400722         4.237500   \n",
        "9    55403              1.004139   1.006046   1.058529         3.343333   \n",
        "10   29343              0.395200   0.395107   0.489358         3.878286   \n",
        "11   11420              0.430018   0.430376   0.478620         3.659605   \n",
        "12   18853              0.466213   0.459689   0.528065         3.385739   \n",
        "13    6477              0.452921   0.452904   0.536183         3.528127   \n",
        "14    1164            353.024023   0.457107   0.714020         4.295918   \n",
        "15   14578              0.543020   0.542984   0.855935         3.806651   \n",
        "16    2276              0.876187   0.872266   0.776976         3.728261   \n",
        "17   14246              0.399433   0.649688   1.227986         3.204545   \n",
        "18   35703              1.296850   1.261806   1.366300         3.154545   \n",
        "19   16949              1.112132   1.109952   1.077301         3.335329   \n",
        "20   41103              0.857873   0.857184   0.891045         2.741211   \n",
        "21   69232              0.593750   0.588805   0.698578         3.524823   \n",
        "22   49236              0.879223   0.864135   1.024765         2.829499   \n",
        "23   40421              0.401491   0.401470   0.538202         3.401945   \n",
        "24   65174              0.488095   0.503814   0.366790         3.471429   \n",
        "25   10181              0.790323   0.813872   0.795328         3.630719   \n",
        "26   35272              0.595238   0.584837   0.608311         3.747596   \n",
        "27   23473              0.744005   0.727392   0.664053         3.624242   \n",
        "28    2477              0.753013   0.735868   0.597296         3.929348   \n",
        "29   26242              0.698943   0.701212   0.842750         3.445233   \n",
        "..     ...                   ...        ...        ...              ...   \n",
        "70   26048              0.517681   0.513054   0.897216         3.845679   \n",
        "71    5182              0.555804   0.555489   0.629553         3.799622   \n",
        "72     783              0.770781   0.764707   0.783105         3.057692   \n",
        "73   39746              0.979802   0.972192   1.043381         3.000000   \n",
        "74   46523              0.774393   0.768872   0.829322         3.776596   \n",
        "75   42688              0.658268   0.658237   0.900237         3.035593   \n",
        "76   11239              0.686573   0.687245   0.869433         3.534983   \n",
        "77   25913              0.592672   0.550764   0.611876         4.234266   \n",
        "78   59433              0.636723   0.627634   0.732547         3.984615   \n",
        "79   34334              0.474913   0.470380   0.484247         3.423387   \n",
        "80   49527              0.438623   0.439223   0.569337         3.498688   \n",
        "81   32021              0.454223   0.453937   0.562186         3.724189   \n",
        "82   68180            153.789244   0.503767   0.670526         3.836449   \n",
        "83   69767              0.530488   0.528963   0.607527         3.241294   \n",
        "84   29942              0.611225   0.610520   0.736299         3.452507   \n",
        "85   19575          16697.100000   0.699997   0.604202         3.648936   \n",
        "86   20591              0.571181   0.571532   0.616543         3.450980   \n",
        "87   55197              1.367542   1.297641   0.961641         3.413793   \n",
        "88   19885              2.192116   1.041119   1.095180         3.496591   \n",
        "89   19804              0.543239   0.537066   0.606259         4.045455   \n",
        "90   19982              0.540427   0.540714   0.603524         3.947619   \n",
        "91   44730              0.728832   0.729902   1.041934         3.309524   \n",
        "92    6757              0.615443   0.614416   0.734827         2.820006   \n",
        "93    4254              0.742171   0.729297   0.612263         3.714286   \n",
        "94   19742              0.472239   0.472251   0.590763         4.163060   \n",
        "95   53428              0.461607   0.469407   0.570950         4.017143   \n",
        "96   10936              0.474774   0.456017   0.554736         4.120690   \n",
        "97   66227              0.515998   0.514685   0.714300         3.726950   \n",
        "98   28875              0.527924   0.525105   0.753502         3.229084   \n",
        "99    4856              0.525915   0.538517   0.731131         3.192118   \n",
        "\n",
        "   num_rating  \n",
        "0       [205]  \n",
        "1       [167]  \n",
        "2        [23]  \n",
        "3       [404]  \n",
        "4       [205]  \n",
        "5        [63]  \n",
        "6        [43]  \n",
        "7       [287]  \n",
        "8        [40]  \n",
        "9       [150]  \n",
        "10      [875]  \n",
        "11      [354]  \n",
        "12      [582]  \n",
        "13     [1671]  \n",
        "14       [98]  \n",
        "15     [1293]  \n",
        "16      [138]  \n",
        "17       [22]  \n",
        "18      [110]  \n",
        "19      [167]  \n",
        "20      [512]  \n",
        "21      [141]  \n",
        "22      [739]  \n",
        "23      [617]  \n",
        "24      [105]  \n",
        "25      [153]  \n",
        "26      [208]  \n",
        "27      [165]  \n",
        "28       [92]  \n",
        "29      [986]  \n",
        "..        ...  \n",
        "70       [81]  \n",
        "71      [529]  \n",
        "72      [130]  \n",
        "73      [136]  \n",
        "74      [188]  \n",
        "75      [885]  \n",
        "76      [586]  \n",
        "77      [286]  \n",
        "78      [130]  \n",
        "79      [124]  \n",
        "80      [762]  \n",
        "81      [339]  \n",
        "82      [214]  \n",
        "83      [201]  \n",
        "84     [1137]  \n",
        "85       [47]  \n",
        "86      [357]  \n",
        "87       [29]  \n",
        "88      [440]  \n",
        "89       [55]  \n",
        "90     [1890]  \n",
        "91      [105]  \n",
        "92     [3414]  \n",
        "93       [70]  \n",
        "94     [1340]  \n",
        "95      [350]  \n",
        "96       [87]  \n",
        "97      [141]  \n",
        "98      [502]  \n",
        "99      [203]  \n",
        "\n",
        "[100 rows x 6 columns]\n"
       ]
      }
     ],
     "prompt_number": 60
    },
    {
     "cell_type": "code",
     "collapsed": false,
     "input": [
      "list_mean1 = pd.DataFrame({'LinearRegression MAE mean': pd.DataFrame(l1).mean()})\n",
      "list_mean2 = pd.DataFrame({'Ridge MAE mean': pd.DataFrame(l2).mean()})\n",
      "list_mean3 = pd.DataFrame({'Lasso MAE mean': pd.DataFrame(l3).mean()})\n",
      "MAE_mean_table = list_mean1.join(list_mean2).join(list_mean3)\n",
      "print MAE_mean_table"
     ],
     "language": "python",
     "metadata": {},
     "outputs": [
      {
       "output_type": "stream",
       "stream": "stdout",
       "text": [
        "   LinearRegression MAE mean  Ridge MAE mean  Lasso MAE mean\n",
        "0              383459.400834        0.698464        0.719895\n"
       ]
      }
     ],
     "prompt_number": 61
    },
    {
     "cell_type": "code",
     "collapsed": false,
     "input": [
      "for user in random_user.UserID:\n",
      "    \n",
      "    #####Split movie Genre into 0 or 1#####\n",
      "    \n",
      "    data1 = pd.DataFrame(groups_rm[user]).reset_index() #replace the index with simple sequential numbers\n",
      "    dummies = pd.DataFrame(np.zeros((len(data1), len(movie_genres))), columns=movie_genres)\n",
      "    for i, gen in enumerate(data1.Genres):\n",
      "        dummies.ix[i, gen.split('|')] = 1\n",
      "    movies_table = data1.join(dummies)\n",
      "    \n",
      "    \n",
      "    \n",
      "    #####read tags into 0 and 1#####\n",
      "    \n",
      "    data2 = pd.DataFrame(groups_rt[user]).reset_index() #replace the index with simple sequ                                              ential numbers\n",
      "    dummies_tag = pd.DataFrame(np.zeros((len(data2), len(distinct_tag))), columns=d_tag.index)\n",
      "    for i, tag in enumerate(data2.Tag):\n",
      "        dummies_tag.ix[i, tag] = 1\n",
      "        #print dummies_tag.ix[i]\n",
      "    #tag_table = data2.join(dummies_tag)\n",
      "    \n",
      "    \n",
      "    \n",
      "    #####Compute mean ratings#####\n",
      "    \n",
      "    ratingname= ['meanrating']\n",
      "    dummies1 = pd.DataFrame(np.zeros((len(data1), 1)), columns = ratingname)\n",
      "    j = 0\n",
      "    for p in movies_table.MovieID:\n",
      "        if j <= len(dummies1):\n",
      "            a = dmf[dmf.index == p].Distinct.values #number of ratings for this movie\n",
      "            b = mean_rating[mean_rating.index == p].Rating.values #all uers mean rating for this moive\n",
      "            c= movies_table[movies_table.MovieID == p].Rating.values #the rating of this movie that the user give\n",
      "            d = dmf[dmf.index == p].Distinct.values -1 #number of ratings for this movie except this user\n",
      "            \n",
      "            if d != 0:\n",
      "                meanrating = (a*b-c)/d\n",
      "            else:\n",
      "                meanrating = b\n",
      "            dummies1.ix[j]= meanrating\n",
      "            j = j+1\n",
      "    tmp_table = movies_table.join(dummies1)\n",
      "    \n",
      "    \n",
      "    #####Compute the number of ratings#####\n",
      "    \n",
      "    ratingname= ['rating_num']\n",
      "    dummies2 = pd.DataFrame(np.zeros((len(data1), 1)), columns = ratingname)\n",
      "    m = 0\n",
      "    for n in movies_table.MovieID:\n",
      "        if m <= len(dummies1):\n",
      "            a = dmf[dmf.index == n].Distinct.values #number of ratings for this movie\n",
      "            dummies2.ix[m]= a\n",
      "            m = m+1\n",
      "    tmp_table2 = tmp_table.join(dummies2)\n",
      "    \n",
      "    \n",
      "    \n",
      "    \n",
      "    #tmp_X = tmp_table2[['UserID','MovieID','meanrating','rating_num']].join(dummies)\n",
      "    #X = pd.concat([tmp_X,dummies_tag],axis=1).fillna(0).values\n",
      "    tmp_X = tmp_table2[['UserID','MovieID','meanrating','rating_num']].join(dummies)\n",
      "    \n",
      "    X = tmp_table2[['UserID','MovieID','meanrating','rating_num']].join(dummies).values\n",
      "    #print X\n",
      "    Y = tmp_table2[['Rating']].values\n",
      "    \n",
      "    \n",
      "    \n",
      "    #Lasso\n",
      "    from sklearn.linear_model import Lasso\n",
      "    lasso = Lasso(alpha=0.1)\n",
      "    res = lasso.fit(X,Y)\n",
      "    #print res.coef_\n",
      "    \n",
      "    #####which genres does the user like######\n",
      "    genre1 = tmp_X.ix[:,4:23]\n",
      "    #print genre1\n",
      "    genre_like =tmp_X.columns[np.where(res.coef_>0)]\n",
      "    print genre_like\n",
      "    \n",
      "    \n",
      "     \n",
      "    \n",
      "    \n",
      "    \n"
     ],
     "language": "python",
     "metadata": {},
     "outputs": [
      {
       "output_type": "stream",
       "stream": "stdout",
       "text": [
        "Index([u'MovieID', u'meanrating'], dtype='object')\n",
        "Index([u'meanrating', u'rating_num'], dtype='object')"
       ]
      },
      {
       "output_type": "stream",
       "stream": "stdout",
       "text": [
        "\n",
        "Index([], dtype='object')"
       ]
      },
      {
       "output_type": "stream",
       "stream": "stdout",
       "text": [
        "\n",
        "Index([u'MovieID', u'rating_num'], dtype='object')"
       ]
      },
      {
       "output_type": "stream",
       "stream": "stdout",
       "text": [
        "\n",
        "Index([u'meanrating'], dtype='object')"
       ]
      },
      {
       "output_type": "stream",
       "stream": "stdout",
       "text": [
        "\n",
        "Index([u'MovieID', u'meanrating', u'rating_num'], dtype='object')"
       ]
      },
      {
       "output_type": "stream",
       "stream": "stdout",
       "text": [
        "\n",
        "Index([u'MovieID', u'rating_num', u'Romance'], dtype='object')"
       ]
      },
      {
       "output_type": "stream",
       "stream": "stdout",
       "text": [
        "\n",
        "Index([u'meanrating', u'rating_num'], dtype='object')"
       ]
      },
      {
       "output_type": "stream",
       "stream": "stdout",
       "text": [
        "\n",
        "Index([u'MovieID', u'rating_num'], dtype='object')"
       ]
      },
      {
       "output_type": "stream",
       "stream": "stdout",
       "text": [
        "\n",
        "Index([u'MovieID', u'meanrating', u'Crime'], dtype='object')"
       ]
      },
      {
       "output_type": "stream",
       "stream": "stdout",
       "text": [
        "\n",
        "Index([u'MovieID', u'meanrating', u'rating_num'], dtype='object')"
       ]
      },
      {
       "output_type": "stream",
       "stream": "stdout",
       "text": [
        "\n",
        "Index([u'MovieID', u'rating_num'], dtype='object')"
       ]
      },
      {
       "output_type": "stream",
       "stream": "stdout",
       "text": [
        "\n",
        "Index([u'MovieID', u'meanrating', u'rating_num'], dtype='object')"
       ]
      },
      {
       "output_type": "stream",
       "stream": "stdout",
       "text": [
        "\n",
        "Index([u'MovieID', u'meanrating', u'rating_num'], dtype='object')"
       ]
      },
      {
       "output_type": "stream",
       "stream": "stdout",
       "text": [
        "\n",
        "Index([u'meanrating'], dtype='object')"
       ]
      },
      {
       "output_type": "stream",
       "stream": "stdout",
       "text": [
        "\n",
        "Index([u'meanrating'], dtype='object')"
       ]
      },
      {
       "output_type": "stream",
       "stream": "stdout",
       "text": [
        "\n",
        "Index([u'MovieID', u'rating_num'], dtype='object')"
       ]
      },
      {
       "output_type": "stream",
       "stream": "stdout",
       "text": [
        "\n",
        "Index([u'MovieID', u'meanrating', u'Drama', u'Romance'], dtype='object')"
       ]
      },
      {
       "output_type": "stream",
       "stream": "stdout",
       "text": [
        "\n",
        "Index([u'meanrating'], dtype='object')"
       ]
      },
      {
       "output_type": "stream",
       "stream": "stdout",
       "text": [
        "\n",
        "Index([u'meanrating'], dtype='object')"
       ]
      },
      {
       "output_type": "stream",
       "stream": "stdout",
       "text": [
        "\n",
        "Index([u'MovieID', u'meanrating', u'rating_num'], dtype='object')"
       ]
      },
      {
       "output_type": "stream",
       "stream": "stdout",
       "text": [
        "\n",
        "Index([u'meanrating'], dtype='object')"
       ]
      },
      {
       "output_type": "stream",
       "stream": "stdout",
       "text": [
        "\n",
        "Index([u'MovieID', u'meanrating', u'rating_num'], dtype='object')"
       ]
      },
      {
       "output_type": "stream",
       "stream": "stdout",
       "text": [
        "\n",
        "Index([u'MovieID', u'meanrating', u'rating_num'], dtype='object')"
       ]
      },
      {
       "output_type": "stream",
       "stream": "stdout",
       "text": [
        "\n",
        "Index([u'MovieID', u'meanrating', u'rating_num'], dtype='object')"
       ]
      },
      {
       "output_type": "stream",
       "stream": "stdout",
       "text": [
        "\n",
        "Index([u'MovieID', u'rating_num'], dtype='object')"
       ]
      },
      {
       "output_type": "stream",
       "stream": "stdout",
       "text": [
        "\n",
        "Index([u'MovieID', u'rating_num'], dtype='object')"
       ]
      },
      {
       "output_type": "stream",
       "stream": "stdout",
       "text": [
        "\n",
        "Index([u'MovieID', u'rating_num'], dtype='object')"
       ]
      },
      {
       "output_type": "stream",
       "stream": "stdout",
       "text": [
        "\n",
        "Index([u'MovieID', u'rating_num', u'Drama'], dtype='object')"
       ]
      },
      {
       "output_type": "stream",
       "stream": "stdout",
       "text": [
        "\n",
        "Index([u'MovieID', u'meanrating', u'rating_num'], dtype='object')"
       ]
      },
      {
       "output_type": "stream",
       "stream": "stdout",
       "text": [
        "\n",
        "Index([u'MovieID', u'meanrating', u'rating_num', u'Drama'], dtype='object')"
       ]
      },
      {
       "output_type": "stream",
       "stream": "stdout",
       "text": [
        "\n",
        "Index([u'rating_num'], dtype='object')"
       ]
      },
      {
       "output_type": "stream",
       "stream": "stdout",
       "text": [
        "\n",
        "Index([u'meanrating', u'rating_num'], dtype='object')"
       ]
      },
      {
       "output_type": "stream",
       "stream": "stdout",
       "text": [
        "\n",
        "Index([u'MovieID', u'meanrating'], dtype='object')"
       ]
      },
      {
       "output_type": "stream",
       "stream": "stdout",
       "text": [
        "\n",
        "Index([u'MovieID', u'meanrating'], dtype='object')"
       ]
      },
      {
       "output_type": "stream",
       "stream": "stdout",
       "text": [
        "\n",
        "Index([u'meanrating', u'rating_num', u'Drama'], dtype='object')"
       ]
      },
      {
       "output_type": "stream",
       "stream": "stdout",
       "text": [
        "\n",
        "Index([u'meanrating', u'rating_num'], dtype='object')"
       ]
      },
      {
       "output_type": "stream",
       "stream": "stdout",
       "text": [
        "\n",
        "Index([u'meanrating'], dtype='object')"
       ]
      },
      {
       "output_type": "stream",
       "stream": "stdout",
       "text": [
        "\n",
        "Index([u'MovieID', u'meanrating', u'rating_num'], dtype='object')"
       ]
      },
      {
       "output_type": "stream",
       "stream": "stdout",
       "text": [
        "\n",
        "Index([], dtype='object')"
       ]
      },
      {
       "output_type": "stream",
       "stream": "stdout",
       "text": [
        "\n",
        "Index([u'meanrating', u'rating_num'], dtype='object')"
       ]
      },
      {
       "output_type": "stream",
       "stream": "stdout",
       "text": [
        "\n",
        "Index([u'MovieID', u'meanrating', u'rating_num'], dtype='object')"
       ]
      },
      {
       "output_type": "stream",
       "stream": "stdout",
       "text": [
        "\n",
        "Index([u'MovieID', u'meanrating'], dtype='object')"
       ]
      },
      {
       "output_type": "stream",
       "stream": "stdout",
       "text": [
        "\n",
        "Index([u'MovieID', u'meanrating', u'rating_num'], dtype='object')"
       ]
      },
      {
       "output_type": "stream",
       "stream": "stdout",
       "text": [
        "\n",
        "Index([u'MovieID', u'rating_num', u'Action', u'Adventure', u'Drama', u'Western'], dtype='object')"
       ]
      },
      {
       "output_type": "stream",
       "stream": "stdout",
       "text": [
        "\n",
        "Index([u'MovieID', u'meanrating', u'rating_num'], dtype='object')"
       ]
      },
      {
       "output_type": "stream",
       "stream": "stdout",
       "text": [
        "\n",
        "Index([u'MovieID', u'rating_num'], dtype='object')"
       ]
      },
      {
       "output_type": "stream",
       "stream": "stdout",
       "text": [
        "\n",
        "Index([u'meanrating', u'rating_num'], dtype='object')"
       ]
      },
      {
       "output_type": "stream",
       "stream": "stdout",
       "text": [
        "\n",
        "Index([u'meanrating'], dtype='object')"
       ]
      },
      {
       "output_type": "stream",
       "stream": "stdout",
       "text": [
        "\n",
        "Index([u'meanrating', u'rating_num', u'Action'], dtype='object')"
       ]
      },
      {
       "output_type": "stream",
       "stream": "stdout",
       "text": [
        "\n",
        "Index([], dtype='object')"
       ]
      },
      {
       "output_type": "stream",
       "stream": "stdout",
       "text": [
        "\n",
        "Index([u'MovieID', u'rating_num'], dtype='object')"
       ]
      },
      {
       "output_type": "stream",
       "stream": "stdout",
       "text": [
        "\n",
        "Index([u'meanrating'], dtype='object')"
       ]
      },
      {
       "output_type": "stream",
       "stream": "stdout",
       "text": [
        "\n",
        "Index([u'MovieID', u'rating_num'], dtype='object')"
       ]
      },
      {
       "output_type": "stream",
       "stream": "stdout",
       "text": [
        "\n",
        "Index([u'MovieID', u'rating_num'], dtype='object')"
       ]
      },
      {
       "output_type": "stream",
       "stream": "stdout",
       "text": [
        "\n",
        "Index([u'MovieID', u'meanrating', u'rating_num'], dtype='object')"
       ]
      },
      {
       "output_type": "stream",
       "stream": "stdout",
       "text": [
        "\n",
        "Index([u'rating_num', u'Comedy'], dtype='object')"
       ]
      },
      {
       "output_type": "stream",
       "stream": "stdout",
       "text": [
        "\n",
        "Index([u'rating_num', u'Action'], dtype='object')"
       ]
      },
      {
       "output_type": "stream",
       "stream": "stdout",
       "text": [
        "\n",
        "Index([u'meanrating', u'rating_num', u'Drama', u'Thriller'], dtype='object')"
       ]
      },
      {
       "output_type": "stream",
       "stream": "stdout",
       "text": [
        "\n",
        "Index([], dtype='object')"
       ]
      },
      {
       "output_type": "stream",
       "stream": "stdout",
       "text": [
        "\n",
        "Index([u'rating_num'], dtype='object')"
       ]
      },
      {
       "output_type": "stream",
       "stream": "stdout",
       "text": [
        "\n",
        "Index([u'MovieID', u'meanrating', u'rating_num'], dtype='object')"
       ]
      },
      {
       "output_type": "stream",
       "stream": "stdout",
       "text": [
        "\n",
        "Index([u'MovieID', u'rating_num', u'Crime', u'Romance', u'Thriller'], dtype='object')"
       ]
      },
      {
       "output_type": "stream",
       "stream": "stdout",
       "text": [
        "\n",
        "Index([u'meanrating', u'rating_num'], dtype='object')"
       ]
      },
      {
       "output_type": "stream",
       "stream": "stdout",
       "text": [
        "\n",
        "Index([u'rating_num'], dtype='object')"
       ]
      },
      {
       "output_type": "stream",
       "stream": "stdout",
       "text": [
        "\n",
        "Index([u'meanrating', u'rating_num', u'Drama'], dtype='object')"
       ]
      },
      {
       "output_type": "stream",
       "stream": "stdout",
       "text": [
        "\n",
        "Index([u'MovieID', u'meanrating', u'rating_num'], dtype='object')"
       ]
      },
      {
       "output_type": "stream",
       "stream": "stdout",
       "text": [
        "\n",
        "Index([u'meanrating', u'rating_num'], dtype='object')"
       ]
      },
      {
       "output_type": "stream",
       "stream": "stdout",
       "text": [
        "\n",
        "Index([u'MovieID', u'meanrating', u'rating_num'], dtype='object')"
       ]
      },
      {
       "output_type": "stream",
       "stream": "stdout",
       "text": [
        "\n",
        "Index([u'MovieID', u'meanrating', u'rating_num'], dtype='object')"
       ]
      },
      {
       "output_type": "stream",
       "stream": "stdout",
       "text": [
        "\n",
        "Index([u'MovieID', u'meanrating', u'rating_num'], dtype='object')"
       ]
      },
      {
       "output_type": "stream",
       "stream": "stdout",
       "text": [
        "\n",
        "Index([u'MovieID', u'rating_num'], dtype='object')"
       ]
      },
      {
       "output_type": "stream",
       "stream": "stdout",
       "text": [
        "\n",
        "Index([u'rating_num'], dtype='object')"
       ]
      },
      {
       "output_type": "stream",
       "stream": "stdout",
       "text": [
        "\n",
        "Index([u'MovieID', u'Action', u'Crime', u'Drama', u'Thriller'], dtype='object')"
       ]
      },
      {
       "output_type": "stream",
       "stream": "stdout",
       "text": [
        "\n",
        "Index([u'MovieID', u'meanrating', u'rating_num'], dtype='object')"
       ]
      },
      {
       "output_type": "stream",
       "stream": "stdout",
       "text": [
        "\n",
        "Index([u'MovieID', u'meanrating', u'rating_num'], dtype='object')"
       ]
      },
      {
       "output_type": "stream",
       "stream": "stdout",
       "text": [
        "\n",
        "Index([u'MovieID', u'meanrating', u'rating_num'], dtype='object')"
       ]
      },
      {
       "output_type": "stream",
       "stream": "stdout",
       "text": [
        "\n",
        "Index([u'MovieID', u'Drama'], dtype='object')"
       ]
      },
      {
       "output_type": "stream",
       "stream": "stdout",
       "text": [
        "\n",
        "Index([u'meanrating', u'rating_num'], dtype='object')"
       ]
      },
      {
       "output_type": "stream",
       "stream": "stdout",
       "text": [
        "\n",
        "Index([u'MovieID', u'rating_num'], dtype='object')"
       ]
      },
      {
       "output_type": "stream",
       "stream": "stdout",
       "text": [
        "\n",
        "Index([u'MovieID', u'meanrating', u'rating_num'], dtype='object')"
       ]
      },
      {
       "output_type": "stream",
       "stream": "stdout",
       "text": [
        "\n",
        "Index([u'MovieID', u'meanrating', u'rating_num'], dtype='object')"
       ]
      },
      {
       "output_type": "stream",
       "stream": "stdout",
       "text": [
        "\n",
        "Index([u'MovieID', u'meanrating', u'rating_num'], dtype='object')"
       ]
      },
      {
       "output_type": "stream",
       "stream": "stdout",
       "text": [
        "\n",
        "Index([u'MovieID', u'meanrating', u'rating_num', u'Drama'], dtype='object')"
       ]
      },
      {
       "output_type": "stream",
       "stream": "stdout",
       "text": [
        "\n",
        "Index([u'MovieID', u'meanrating', u'rating_num'], dtype='object')"
       ]
      },
      {
       "output_type": "stream",
       "stream": "stdout",
       "text": [
        "\n",
        "Index([u'rating_num'], dtype='object')"
       ]
      },
      {
       "output_type": "stream",
       "stream": "stdout",
       "text": [
        "\n",
        "Index([u'meanrating'], dtype='object')"
       ]
      },
      {
       "output_type": "stream",
       "stream": "stdout",
       "text": [
        "\n",
        "Index([u'meanrating', u'Romance'], dtype='object')"
       ]
      },
      {
       "output_type": "stream",
       "stream": "stdout",
       "text": [
        "\n",
        "Index([u'meanrating'], dtype='object')"
       ]
      },
      {
       "output_type": "stream",
       "stream": "stdout",
       "text": [
        "\n",
        "Index([u'meanrating', u'rating_num'], dtype='object')"
       ]
      },
      {
       "output_type": "stream",
       "stream": "stdout",
       "text": [
        "\n",
        "Index([u'MovieID', u'rating_num'], dtype='object')"
       ]
      },
      {
       "output_type": "stream",
       "stream": "stdout",
       "text": [
        "\n",
        "Index([u'MovieID', u'meanrating', u'rating_num', u'Drama'], dtype='object')"
       ]
      },
      {
       "output_type": "stream",
       "stream": "stdout",
       "text": [
        "\n",
        "Index([u'meanrating', u'rating_num'], dtype='object')"
       ]
      },
      {
       "output_type": "stream",
       "stream": "stdout",
       "text": [
        "\n",
        "Index([u'MovieID', u'rating_num'], dtype='object')"
       ]
      },
      {
       "output_type": "stream",
       "stream": "stdout",
       "text": [
        "\n",
        "Index([u'MovieID', u'meanrating', u'rating_num'], dtype='object')"
       ]
      },
      {
       "output_type": "stream",
       "stream": "stdout",
       "text": [
        "\n",
        "Index([u'MovieID', u'meanrating', u'rating_num'], dtype='object')"
       ]
      },
      {
       "output_type": "stream",
       "stream": "stdout",
       "text": [
        "\n",
        "Index([u'meanrating'], dtype='object')"
       ]
      },
      {
       "output_type": "stream",
       "stream": "stdout",
       "text": [
        "\n",
        "Index([u'meanrating'], dtype='object')"
       ]
      },
      {
       "output_type": "stream",
       "stream": "stdout",
       "text": [
        "\n",
        "Index([u'MovieID', u'meanrating', u'rating_num'], dtype='object')"
       ]
      },
      {
       "output_type": "stream",
       "stream": "stdout",
       "text": [
        "\n",
        "Index([u'MovieID', u'meanrating', u'rating_num'], dtype='object')"
       ]
      },
      {
       "output_type": "stream",
       "stream": "stdout",
       "text": [
        "\n"
       ]
      }
     ],
     "prompt_number": 46
    },
    {
     "cell_type": "code",
     "collapsed": false,
     "input": [],
     "language": "python",
     "metadata": {},
     "outputs": [],
     "prompt_number": 45
    },
    {
     "cell_type": "code",
     "collapsed": false,
     "input": [],
     "language": "python",
     "metadata": {},
     "outputs": []
    }
   ],
   "metadata": {}
  }
 ]
}