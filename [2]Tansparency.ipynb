{
 "metadata": {
  "name": "",
  "signature": "sha256:00ba1d28c3a0fde71cb52d4e4c1682845187d668fc303839306972c148e9fac3"
 },
 "nbformat": 3,
 "nbformat_minor": 0,
 "worksheets": [
  {
   "cells": [
    {
     "cell_type": "heading",
     "level": 2,
     "metadata": {},
     "source": [
      "Import packages"
     ]
    },
    {
     "cell_type": "code",
     "collapsed": false,
     "input": [
      "%matplotlib inline\n",
      "import numpy as np\n",
      "import scipy as sp\n",
      "import matplotlib.pyplot as plt\n",
      "\n",
      "import pandas as pd"
     ],
     "language": "python",
     "metadata": {},
     "outputs": [],
     "prompt_number": 1
    },
    {
     "cell_type": "heading",
     "level": 2,
     "metadata": {},
     "source": [
      "Load the data"
     ]
    },
    {
     "cell_type": "code",
     "collapsed": false,
     "input": [
      "#read data from file \n",
      "names1 = ['MovieID', 'Title',  'Genres']\n",
      "moviedata = pd.read_csv(\"/Users/leslieniu/Desktop/ml-10M100K/movies.dat\", sep='::', names=names1)\n",
      "\n",
      "\n",
      "names2 = ['UserID', 'MovieID', 'Rating', '']\n",
      "rating = pd.read_csv(\"/Users/leslieniu/Desktop/ml-10M100K/ratings.dat\", sep='::', names=names2,usecols=range(3))\n",
      "\n",
      "names3 =['UserID', 'MovieID', 'Tag','']\n",
      "tag = pd.read_csv(\"/Users/leslieniu/Desktop/ml-10M100K/tags.dat\", sep='::', names=names3,usecols=range(3))"
     ],
     "language": "python",
     "metadata": {},
     "outputs": [
      {
       "output_type": "stream",
       "stream": "stderr",
       "text": [
        "/usr/local/lib/python2.7/site-packages/pandas/io/parsers.py:639: ParserWarning: Falling back to the 'python' engine because the 'c' engine does not support regex separators; you can avoid this warning by specifying engine='python'.\n",
        "  ParserWarning)\n"
       ]
      }
     ],
     "prompt_number": 2
    },
    {
     "cell_type": "heading",
     "level": 2,
     "metadata": {},
     "source": [
      "Group data"
     ]
    },
    {
     "cell_type": "code",
     "collapsed": false,
     "input": [
      "#merge the rating and moviedata\n",
      "rm_data = pd.merge(rating,moviedata)\n",
      "#merge the rating and tag data\n",
      "rt_data = pd.merge(rating,tag)"
     ],
     "language": "python",
     "metadata": {},
     "outputs": [],
     "prompt_number": 3
    },
    {
     "cell_type": "heading",
     "level": 3,
     "metadata": {},
     "source": [
      "1.Group the rating_movie data by UserID"
     ]
    },
    {
     "cell_type": "code",
     "collapsed": false,
     "input": [
      "tmp_rm = rm_data[['UserID','MovieID','Rating','Title','Genres']]\n",
      "print tmp_rm.head()\n",
      "print len(tmp_rm)"
     ],
     "language": "python",
     "metadata": {},
     "outputs": [
      {
       "output_type": "stream",
       "stream": "stdout",
       "text": [
        "   UserID  MovieID  Rating             Title          Genres\n",
        "0       1      122     5.0  Boomerang (1992)  Comedy|Romance\n",
        "1     139      122     3.0  Boomerang (1992)  Comedy|Romance\n",
        "2     149      122     2.5  Boomerang (1992)  Comedy|Romance\n",
        "3     182      122     3.0  Boomerang (1992)  Comedy|Romance\n",
        "4     215      122     4.5  Boomerang (1992)  Comedy|Romance\n",
        "10000054\n"
       ]
      }
     ],
     "prompt_number": 4
    },
    {
     "cell_type": "code",
     "collapsed": false,
     "input": [
      "grp_rm = tmp_rm.groupby('UserID')\n",
      "len(grp_rm)  # 69879:the number of users give the rating\n",
      "\n",
      "groups_rm = dict(list(grp_rm))\n",
      "#groups_rm[1]"
     ],
     "language": "python",
     "metadata": {},
     "outputs": [],
     "prompt_number": 5
    },
    {
     "cell_type": "heading",
     "level": 3,
     "metadata": {},
     "source": [
      "2.Group the rating_tag data by UserID"
     ]
    },
    {
     "cell_type": "code",
     "collapsed": false,
     "input": [
      "tmp_rt = rt_data[['UserID','MovieID','Rating','Tag']]\n",
      "print tmp_rt.head()\n",
      "print len(tmp_rt)"
     ],
     "language": "python",
     "metadata": {},
     "outputs": [
      {
       "output_type": "stream",
       "stream": "stdout",
       "text": [
        "   UserID  MovieID  Rating                                    Tag\n",
        "0      48    54775     4.5  The Director Should be given a grammy\n",
        "1      75      353     3.5                                 tissit\n",
        "2      78     4223     5.0                            want to own\n",
        "3     175     2819     5.0                           skullduggery\n",
        "4     175    51540     4.0                             bad ending\n",
        "44805\n"
       ]
      }
     ],
     "prompt_number": 6
    },
    {
     "cell_type": "code",
     "collapsed": false,
     "input": [
      "grp_rt = tmp_rt.groupby('UserID')\n",
      "#len(grp_rt)  #2026:the number of users both give rating and tag\n",
      "\n",
      "groups_rt = dict(list(grp_rt))\n",
      "#groups_rt[49935]"
     ],
     "language": "python",
     "metadata": {},
     "outputs": [],
     "prompt_number": 7
    },
    {
     "cell_type": "heading",
     "level": 3,
     "metadata": {},
     "source": [
      "3.how many users both give rating and tag"
     ]
    },
    {
     "cell_type": "code",
     "collapsed": false,
     "input": [
      "user_r_t = rt_data['UserID'].value_counts()\n",
      "u_r_t=pd.DataFrame({'UserID': user_r_t.index})\n",
      "#u_r_t"
     ],
     "language": "python",
     "metadata": {},
     "outputs": [],
     "prompt_number": 8
    },
    {
     "cell_type": "heading",
     "level": 2,
     "metadata": {},
     "source": [
      "Random choose 100 users from rating data"
     ]
    },
    {
     "cell_type": "code",
     "collapsed": false,
     "input": [
      "np.random.seed(20)  #set the seed=20\n",
      "df = pd.DataFrame(u_r_t)\n",
      "random_user=df.loc[np.random.choice(df.index, 100, replace=False)]\n",
      "#random_user"
     ],
     "language": "python",
     "metadata": {},
     "outputs": [],
     "prompt_number": 9
    },
    {
     "cell_type": "code",
     "collapsed": false,
     "input": [
      "#number of distinct tags\n",
      "distinct_tag = tag['Tag'].value_counts()\n",
      "d_tag=pd.DataFrame({'Distinct Tag Count': distinct_tag})\n",
      "\n",
      "#Number of distinct movies in the rating data\n",
      "distinct_movie_rating = rating['MovieID'].value_counts()\n",
      "dmf=pd.DataFrame({'Distinct': distinct_movie_rating})\n",
      "\n",
      "#The average rating for each movie\n",
      "grp = tmp_rm.groupby('MovieID')\n",
      "mean_rating = grp.mean()\n",
      "\n",
      "genres = set()\n",
      "for m in moviedata.Genres:\n",
      "    genres.update(g for g in m.split('|'))\n",
      "genres = sorted(genres)\n",
      "for genre in genres:\n",
      "    moviedata[genre] = [genre in movie.split('|') for movie in moviedata.Genres]\n",
      "\n",
      "movie_genres = moviedata[genres].sum().index[1:]\n"
     ],
     "language": "python",
     "metadata": {},
     "outputs": [],
     "prompt_number": 10
    },
    {
     "cell_type": "heading",
     "level": 2,
     "metadata": {},
     "source": [
      "Build database for each random user"
     ]
    },
    {
     "cell_type": "code",
     "collapsed": false,
     "input": [
      "l1= []\n",
      "l2= []\n",
      "l3 =[]\n",
      "l4 =[]\n",
      "l5 =[]\n",
      "l6 =[]\n",
      "l7 =[]\n",
      "for user in random_user.UserID:\n",
      "    \n",
      "    #####Split movie Genre into 0 or 1#####\n",
      "    \n",
      "    data1 = pd.DataFrame(groups_rm[user]).reset_index() #replace the index with simple sequential numbers\n",
      "    #genre_iter = (set(x.split('|')) for x in data1.Genres)\n",
      "    #movie_genres = sorted(set.union(*genre_iter))\n",
      "    dummies = pd.DataFrame(np.zeros((len(data1), len(movie_genres))), columns=movie_genres)\n",
      "    for i, gen in enumerate(data1.Genres):\n",
      "        dummies.ix[i, gen.split('|')] = 1\n",
      "        \n",
      "    movies_table = data1.join(dummies)\n",
      "    l4.append(user)\n",
      "    \n",
      "    \n",
      "    \n",
      "    \n",
      "    #####read tags into 0 and 1#####\n",
      "    \n",
      "    data2 = pd.DataFrame(groups_rt[user]).reset_index() #replace the index with simple sequ                                              ential numbers\n",
      "    dummies_tag = pd.DataFrame(np.zeros((len(data2), len(distinct_tag))), columns=d_tag.index)\n",
      "    for i, tag in enumerate(data2.Tag):\n",
      "        dummies_tag.ix[i, tag] = 1\n",
      "        #print dummies_tag.ix[i]\n",
      "    #tag_table = data2.join(dummies_tag)\n",
      "    \n",
      "    \n",
      "    \n",
      "    #####Compute mean ratings#####\n",
      "    \n",
      "    ratingname= ['meanrating']\n",
      "    dummies1 = pd.DataFrame(np.zeros((len(data1), 1)), columns = ratingname)\n",
      "    j = 0\n",
      "    for p in movies_table.MovieID:\n",
      "        if j <= len(dummies1):\n",
      "            a = dmf[dmf.index == p].Distinct.values #number of ratings for this movie\n",
      "            b = mean_rating[mean_rating.index == p].Rating.values #all uers mean rating for this moive\n",
      "            c= movies_table[movies_table.MovieID == p].Rating.values #the rating of this movie that the user give\n",
      "            d = dmf[dmf.index == p].Distinct.values -1 #number of ratings for this movie except this user\n",
      "            \n",
      "            if d != 0:\n",
      "                meanrating = (a*b-c)/d\n",
      "            else:\n",
      "                meanrating = b\n",
      "            dummies1.ix[j]= meanrating\n",
      "            j = j+1\n",
      "    tmp_table = movies_table.join(dummies1)\n",
      "    \n",
      "    \n",
      "    #####Compute the number of ratings#####\n",
      "    \n",
      "    ratingname= ['rating_num']\n",
      "    dummies2 = pd.DataFrame(np.zeros((len(data1), 1)), columns = ratingname)\n",
      "    m = 0\n",
      "    for n in movies_table.MovieID:\n",
      "        if m <= len(dummies1):\n",
      "            a = dmf[dmf.index == n].Distinct.values #number of ratings for this movie\n",
      "            dummies2.ix[m]= a\n",
      "            m = m+1\n",
      "    tmp_table2 = tmp_table.join(dummies2)\n",
      "    \n",
      "    #####Compute the average rating for each user#####\n",
      "    average_rating = round(tmp_table2.Rating.mean(),1)\n",
      "    l5.append(average_rating)\n",
      "    \n",
      "    #####Compute the number of ratings for each user#####\n",
      "    rating_num_tmp = tmp_table2.UserID.value_counts()\n",
      "    rating_num = rating_num_tmp.values\n",
      "    l6.append(rating_num)\n",
      "    \n",
      "    #####Compute the genre distribution#####\n",
      "    \n",
      "\n",
      "    \n",
      "    \n",
      " \n",
      "     \n",
      "    #####cross validation#####\n",
      "    #split data into training set and testing set\n",
      "    tmp_X = tmp_table2[['meanrating','rating_num']].join(dummies)\n",
      "    X = pd.concat([tmp_X,dummies_tag],axis=1).fillna(0).values\n",
      "    #print X\n",
      "    Y = tmp_table2[['Rating']].values\n",
      "    \n",
      "    \n",
      "    \n",
      "    \n",
      "    \n",
      "    from sklearn.cross_validation import train_test_split\n",
      "    X_train, X_test, Y_train, Y_test = train_test_split(X, Y, test_size=0.2, random_state=42)\n",
      "    \n",
      "    \n",
      "    #LinearRegression\n",
      "    \n",
      "    from sklearn.linear_model import LinearRegression\n",
      "    clf1 = LinearRegression()\n",
      "    clf1.fit(X_train,Y_train)\n",
      "    # The mean absolute error\n",
      "    mae1 = round(np.mean(np.abs(clf1.predict(X_test) - Y_test)),2)\n",
      "    #print (\"LinearRegression MAE: %.2f\" % np.mean(np.abs(clf1.predict(X_test) - Y_test)))\n",
      "    l1.append(mae1)\n",
      "    \n",
      "    #Ridge Regression\n",
      "    from sklearn.linear_model import Ridge\n",
      "    clf2 = Ridge(alpha=0.1)\n",
      "    clf2.fit(X_train,Y_train)\n",
      "    # The mean absolute error\n",
      "    mae2 = round(np.mean(np.abs(clf2.predict(X_test) - Y_test)),2)\n",
      "    #print (\"Ridge MAE: %.2f\" % np.mean(np.abs(clf2.predict(X_test) - Y_test)))\n",
      "    l2.append(mae2)\n",
      "    \n",
      "    #Lasso\n",
      "    from sklearn import linear_model\n",
      "    clf3 = linear_model.Lasso(alpha=10)\n",
      "    clf3.fit(X_train,Y_train)\n",
      "    # The mean absolute error\n",
      "    mae3 = round(np.mean(np.abs(clf3.predict(X_test) - Y_test)),2)\n",
      "    #print (\"Lasso MAE: %.2f\" % np.mean(np.abs(clf3.predict(X_test) - Y_test)))\n",
      "    l3.append(mae3)\n",
      "    \n",
      "    \n",
      "    #SVR\n",
      "    #from sklearn.svm import SVR\n",
      "    #clf4 = SVR(C=1.0, epsilon=0.2)\n",
      "    #clf4.fit(X_train,Y_train)\n",
      "    # The mean absolute error\n",
      "    #print (\"SVR MAE: %.2f\" % np.mean(np.abs(clf4.predict(X_test) - Y_test)))\n",
      "    \n",
      "    \n",
      "list1 = pd.DataFrame({'Linear MAE': l1})\n",
      "list2 = pd.DataFrame({'Ridge MAE': l2})\n",
      "list3 = pd.DataFrame({'Lasso MAE': l3})\n",
      "list4 = pd.DataFrame({'UserID': l4})\n",
      "list5 = pd.DataFrame({'avr_rating_user':l5})\n",
      "list6 = pd.DataFrame({'num_rating':l6})\n",
      "\n",
      "\n",
      "\n"
     ],
     "language": "python",
     "metadata": {},
     "outputs": [],
     "prompt_number": 11
    },
    {
     "cell_type": "code",
     "collapsed": false,
     "input": [
      "MAE_table = list4.join(list1).join(list2).join(list3).head(10)\n",
      "print MAE_table"
     ],
     "language": "python",
     "metadata": {},
     "outputs": [
      {
       "output_type": "stream",
       "stream": "stdout",
       "text": [
        "   UserID  Linear MAE  Ridge MAE  Lasso MAE\n",
        "0   49935        0.55       0.55       0.66\n",
        "1   59474        0.71       0.70       0.71\n",
        "2    5593        0.50       0.46       0.32\n",
        "3    6119        0.45       0.45       0.48\n",
        "4   37987        0.94       0.94       0.96\n",
        "5   21668        0.66       0.65       0.59\n",
        "6   64264        0.60       0.53       0.53\n",
        "7   69668        0.50       0.49       0.57\n",
        "8   63700        0.55       0.48       0.37\n",
        "9   55403        1.02       1.02       1.02\n"
       ]
      }
     ],
     "prompt_number": 12
    },
    {
     "cell_type": "code",
     "collapsed": false,
     "input": [
      "list_mean1 = pd.DataFrame({'Linear MAE mean': pd.DataFrame(l1).mean()})\n",
      "list_mean2 = pd.DataFrame({'Ridge MAE mean': pd.DataFrame(l2).mean()})\n",
      "list_mean3 = pd.DataFrame({'Lasso MAE mean': pd.DataFrame(l3).mean()})\n",
      "MAE_mean_table = list_mean1.join(list_mean2).join(list_mean3)\n",
      "print MAE_mean_table"
     ],
     "language": "python",
     "metadata": {},
     "outputs": [
      {
       "output_type": "stream",
       "stream": "stdout",
       "text": [
        "   Linear MAE mean  Ridge MAE mean  Lasso MAE mean\n",
        "0           0.8244           0.688          0.7119\n"
       ]
      }
     ],
     "prompt_number": 13
    },
    {
     "cell_type": "code",
     "collapsed": false,
     "input": [
      "#####choose one user which UserID = 49935\n",
      "\n",
      "\n",
      "#####Split movie Genre into 0 or 1#####\n",
      "data1 = pd.DataFrame(groups_rm[49935]).reset_index() #replace the index with simple sequential numbers\n",
      "dummies = pd.DataFrame(np.zeros((len(data1), len(movie_genres))), columns=movie_genres)\n",
      "for i, gen in enumerate(data1.Genres):\n",
      "    dummies.ix[i, gen.split('|')] = 1\n",
      "movies_table = data1.join(dummies)\n",
      "\n",
      "\n",
      "#####read tags into 0 and 1#####\n",
      "data2 = pd.DataFrame(groups_rt[49935]).reset_index() #replace the index with simple sequ                                              ential numbers\n",
      "dummies_tag = pd.DataFrame(np.zeros((len(data2), len(distinct_tag))), columns=d_tag.index)\n",
      "for i, tag in enumerate(data2.Tag):\n",
      "    dummies_tag.ix[i, tag] = 1\n",
      "\n",
      "\n",
      "#####Compute mean ratings#####\n",
      "ratingname= ['meanrating']\n",
      "dummies1 = pd.DataFrame(np.zeros((len(data1), 1)), columns = ratingname)\n",
      "j = 0\n",
      "for p in movies_table.MovieID:\n",
      "    if j <= len(dummies1):\n",
      "        a = dmf[dmf.index == p].Distinct.values #number of ratings for this movie\n",
      "        b = mean_rating[mean_rating.index == p].Rating.values #all uers mean rating for this moive\n",
      "        c= movies_table[movies_table.MovieID == p].Rating.values #the rating of this movie that the user give\n",
      "        d = dmf[dmf.index == p].Distinct.values -1 #number of ratings for this movie except this user\n",
      "            \n",
      "        if d != 0:\n",
      "            meanrating = (a*b-c)/d\n",
      "        else:\n",
      "            meanrating = b\n",
      "        dummies1.ix[j]= meanrating\n",
      "        j = j+1\n",
      "tmp_table = movies_table.join(dummies1)\n",
      "\n",
      "\n",
      "#####Compute the number of ratings#####\n",
      "ratingname= ['rating_num']\n",
      "dummies2 = pd.DataFrame(np.zeros((len(data1), 1)), columns = ratingname)\n",
      "m = 0\n",
      "for n in movies_table.MovieID:\n",
      "    if m <= len(dummies1):\n",
      "        a = dmf[dmf.index == n].Distinct.values #number of ratings for this movie\n",
      "        dummies2.ix[m]= a\n",
      "        m = m+1\n",
      "tmp_table2 = tmp_table.join(dummies2)\n",
      "\n",
      "\n",
      "    \n",
      "\n",
      "\n"
     ],
     "language": "python",
     "metadata": {},
     "outputs": [],
     "prompt_number": 14
    },
    {
     "cell_type": "code",
     "collapsed": false,
     "input": [
      "#####Compute the average rating for this user#####\n",
      "average_rating = round(tmp_table2.Rating.mean(),1)\n",
      "print ('The average rating of this user is        : %0.2f' % average_rating)\n",
      "\n",
      "#####compute the overall rating \n",
      "print ('The overall average rating is             : %0.2f' % rm_data.Rating.mean())\n",
      "\n",
      "#####Compute the number of ratings for each user#####\n",
      "rating_num_tmp = tmp_table2.UserID.value_counts()\n",
      "rating_num = int(rating_num_tmp.values)\n",
      "print ('The number of movies this user rated      : %d' % rating_num) \n",
      "\n",
      "#####average rating numbers for each user#####\n",
      "count = rm_data['UserID'].value_counts()\n",
      "print ('On average number of rated movie per user : %d' % count.mean()) \n",
      "\n",
      "    \n",
      "#####Compute the genre distribution#####"
     ],
     "language": "python",
     "metadata": {},
     "outputs": [
      {
       "output_type": "stream",
       "stream": "stdout",
       "text": [
        "The average rating of this user is        : 3.60\n",
        "The overall average rating is             : 3.51"
       ]
      },
      {
       "output_type": "stream",
       "stream": "stdout",
       "text": [
        "\n",
        "The number of movies this user rated      : 205\n",
        "On average number of rated movie per user : 143"
       ]
      },
      {
       "output_type": "stream",
       "stream": "stdout",
       "text": [
        "\n"
       ]
      }
     ],
     "prompt_number": 15
    },
    {
     "cell_type": "code",
     "collapsed": false,
     "input": [
      "#####which genres does the user like######\n",
      "tmp_X = tmp_table2[['meanrating','rating_num']].join(dummies)\n",
      "Y = tmp_table2[['Rating']]\n",
      "\n",
      "#####Normalize meanrating and rating_num#####\n",
      "##Normalize meanrating##\n",
      "x1 = []\n",
      "x2 = []\n",
      "for i in tmp_X.ix[:,0]:\n",
      "    t1 = round(i/tmp_X.ix[:,0].max(),1)\n",
      "    x1.append(t1)\n",
      "##Normalise rating_num\n",
      "for j in tmp_X.ix[:,1]:\n",
      "    t2 = round(j/tmp_X.ix[:,1].max(),1)\n",
      "    x2.append(t2)\n",
      "\n",
      "X1 = pd.DataFrame({'meanrating': x1})\n",
      "X2 = pd.DataFrame({'rating_num': x2})\n",
      "tmp_X1 = X1.join(X2).join(dummies)\n",
      "X = pd.concat([tmp_X1,dummies_tag],axis=1).fillna(0)\n",
      "\n",
      "\n",
      "#Lasso\n",
      "from sklearn.linear_model import Lasso\n",
      "lasso = Lasso(alpha=0.2)\n",
      "res = lasso.fit(X,Y)\n",
      "#Ridge\n",
      "from sklearn.linear_model import Ridge\n",
      "ridge = Ridge(alpha=0.1,fit_intercept=False)\n",
      "res1 = ridge.fit(X,Y)\n"
     ],
     "language": "python",
     "metadata": {},
     "outputs": [],
     "prompt_number": 23
    },
    {
     "cell_type": "code",
     "collapsed": false,
     "input": [
      "#####print the coefficient \n",
      "coef = res1.coef_.ravel()\n",
      "print res.coef_  ###Lasso coef\n",
      "print coef      ###Ridge coef"
     ],
     "language": "python",
     "metadata": {},
     "outputs": [
      {
       "output_type": "stream",
       "stream": "stdout",
       "text": [
        "[ 0.  0. -0. ...,  0.  0.  0.]\n",
        "[ 4.99619318 -0.84398383  0.04487652 ...,  0.          0.          0.        ]\n"
       ]
      }
     ],
     "prompt_number": 27
    },
    {
     "cell_type": "code",
     "collapsed": false,
     "input": [
      "#####Overall influence######\n",
      "\n",
      "###choose the Ridge Regression \n",
      "genre_sort_asc = np.argsort(coef)\n",
      "genre_sort_desc = np.argsort(coef)[::-1][:n]\n",
      "\n",
      "\n",
      "#The Posotive top 10 features and wights\n",
      "f_pos = X.columns.values[genre_sort_desc][:10]\n",
      "w_pos = coef[np.argsort(coef)[::-1][:n][:10]]\n",
      "\n",
      "a = pd.DataFrame({'Pos_features': f_pos})\n",
      "b = pd.DataFrame({'Pos_weights': w_pos})\n",
      "print a.join(b)\n",
      "\n"
     ],
     "language": "python",
     "metadata": {},
     "outputs": [
      {
       "output_type": "stream",
       "stream": "stdout",
       "text": [
        "  Pos_features  Pos_weights\n",
        "0   meanrating     4.996193\n",
        "1    Animation     0.664044\n",
        "2     Thriller     0.248005\n",
        "3    Film-Noir     0.127661\n",
        "4      Fantasy     0.063459\n",
        "5       Action     0.044877\n",
        "6        Crime     0.029724\n",
        "7       Horror     0.016035\n",
        "8      glamour     0.000000\n",
        "9   playground     0.000000\n"
       ]
      }
     ],
     "prompt_number": 46
    },
    {
     "cell_type": "code",
     "collapsed": false,
     "input": [
      "#####Print only Genre information#####\n",
      "\n",
      "#The Negative top 10 features and weights\n",
      "f_neg = X.columns.values[genre_sort_asc][:10]\n",
      "w_neg = coef[np.argsort(coef)[:10]]\n",
      "\n",
      "c = pd.DataFrame({'Neg_features': f_neg})\n",
      "d = pd.DataFrame({'Neg_weights': w_neg})\n",
      "print c.join(d)\n"
     ],
     "language": "python",
     "metadata": {},
     "outputs": [
      {
       "output_type": "stream",
       "stream": "stdout",
       "text": [
        "          Neg_features  Neg_weights\n",
        "0  seen more than once    -2.099923\n",
        "1          llama face!    -1.656274\n",
        "2              Western    -0.930145\n",
        "3              Musical    -0.893897\n",
        "4           rating_num    -0.843984\n",
        "5                  War    -0.488014\n",
        "6              Mystery    -0.364091\n",
        "7               Sci-Fi    -0.241277\n",
        "8             Children    -0.186023\n",
        "9              Romance    -0.106266\n"
       ]
      }
     ],
     "prompt_number": 47
    },
    {
     "cell_type": "code",
     "collapsed": false,
     "input": [
      "#The positive top 10 genre features\n",
      "genre_sort_desc1 = np.argsort(coef[2:21])[::-1][:n]\n",
      "pos_gen_feature= X.columns.values[2:21][genre_sort_desc1][:10]\n",
      "pos_gen_weight = sorted(coef[2:21], reverse=True)[:10]\n",
      "\n",
      "a1 = pd.DataFrame({'Pos_Genres': pos_gen_feature})\n",
      "b1 = pd.DataFrame({'Pos_weights': pos_gen_weight})\n",
      "print a1.join(b1)\n"
     ],
     "language": "python",
     "metadata": {},
     "outputs": [
      {
       "output_type": "stream",
       "stream": "stdout",
       "text": [
        "    Pos_Genres  Pos_weights\n",
        "0    Animation     0.664044\n",
        "1     Thriller     0.248005\n",
        "2    Film-Noir     0.127661\n",
        "3      Fantasy     0.063459\n",
        "4       Action     0.044877\n",
        "5        Crime     0.029724\n",
        "6       Horror     0.016035\n",
        "7         IMAX     0.000000\n",
        "8  Documentary     0.000000\n",
        "9        Drama    -0.036561\n"
       ]
      }
     ],
     "prompt_number": 84
    },
    {
     "cell_type": "code",
     "collapsed": false,
     "input": [
      "#The Negative top 10 genre features\n",
      "genre_sort_asc1 = np.argsort(coef[2:21])\n",
      "neg_gen_feature= X.columns.values[2:21][genre_sort_asc1][:10]\n",
      "neg_gen_weight = sorted(coef[2:21])[:10]\n",
      "\n",
      "c1 = pd.DataFrame({'Neg_Genres': neg_gen_feature})\n",
      "d1 = pd.DataFrame({'Neg_weights': neg_gen_weight})\n",
      "print c1.join(d1)"
     ],
     "language": "python",
     "metadata": {},
     "outputs": [
      {
       "output_type": "stream",
       "stream": "stdout",
       "text": [
        "  Neg_Genres  Neg_weights\n",
        "0    Western    -0.930145\n",
        "1    Musical    -0.893897\n",
        "2        War    -0.488014\n",
        "3    Mystery    -0.364091\n",
        "4     Sci-Fi    -0.241277\n",
        "5   Children    -0.186023\n",
        "6    Romance    -0.106266\n",
        "7  Adventure    -0.076392\n",
        "8     Comedy    -0.063500\n",
        "9      Drama    -0.036561\n"
       ]
      }
     ],
     "prompt_number": 85
    },
    {
     "cell_type": "code",
     "collapsed": false,
     "input": [
      "#####Print only tag information \n",
      "\n",
      "#The positive top 10 tag features\n",
      "genre_sort_desc2 = np.argsort(coef[21:])[::-1][:n]\n",
      "pos_tag_feature= X.columns.values[21:][genre_sort_desc2][:10]\n",
      "pos_tag_weight = sorted(coef[21:], reverse=True)[:10]\n",
      "\n",
      "a2 = pd.DataFrame({'Pos_Tags': pos_tag_feature})\n",
      "b2 = pd.DataFrame({'Pos_weights': pos_tag_weight})\n",
      "print a2.join(b2)"
     ],
     "language": "python",
     "metadata": {},
     "outputs": [
      {
       "output_type": "stream",
       "stream": "stdout",
       "text": [
        "                        Pos_Tags  Pos_weights\n",
        "0   Glaring holes in movie logic            0\n",
        "1                   john lithgow            0\n",
        "2               physical therapy            0\n",
        "3                       sadistic            0\n",
        "4  remakeOf:Freaky Friday (1977)            0\n",
        "5                    trilogy:Apu            0\n",
        "6                  Richard Pryor            0\n",
        "7           Matheus Nachtergaele            0\n",
        "8                  great villain            0\n",
        "9             author:Jurek Becke            0\n"
       ]
      }
     ],
     "prompt_number": 86
    },
    {
     "cell_type": "code",
     "collapsed": false,
     "input": [
      "#The Negative top 10 tag features\n",
      "genre_sort_asc2 = np.argsort(coef[21:])\n",
      "neg_tag_feature= X.columns.values[21:][genre_sort_asc2][:10]\n",
      "neg_tag_weight = sorted(coef[21:])[:10]\n",
      "\n",
      "c2 = pd.DataFrame({'Neg_Tags': neg_tag_feature})\n",
      "d2 = pd.DataFrame({'Neg_weights': neg_tag_weight})\n",
      "print c2.join(d2)"
     ],
     "language": "python",
     "metadata": {},
     "outputs": [
      {
       "output_type": "stream",
       "stream": "stdout",
       "text": [
        "                                      Neg_Tags  Neg_weights\n",
        "0                          seen more than once    -2.099923\n",
        "1                                  llama face!    -1.656274\n",
        "2                                 Tumey's DVDs     0.000000\n",
        "3                           dumbest movie ever     0.000000\n",
        "4              definitley not as good as first     0.000000\n",
        "5  Adapted from the books by Louisa May Alcott     0.000000\n",
        "6                                  Horror Game     0.000000\n",
        "7                                     grifting     0.000000\n",
        "8                            See: Delicatessen     0.000000\n",
        "9                                  uma thurman     0.000000\n"
       ]
      }
     ],
     "prompt_number": 87
    },
    {
     "cell_type": "code",
     "collapsed": false,
     "input": [],
     "language": "python",
     "metadata": {},
     "outputs": []
    }
   ],
   "metadata": {}
  }
 ]
}