{
 "metadata": {
  "name": "",
  "signature": "sha256:d9270a6ad12ad0166ec58434f46b399813c9536df792c93600165a2aac78466e"
 },
 "nbformat": 3,
 "nbformat_minor": 0,
 "worksheets": [
  {
   "cells": [
    {
     "cell_type": "heading",
     "level": 1,
     "metadata": {},
     "source": [
      "Understanting of Movie Data"
     ]
    },
    {
     "cell_type": "code",
     "collapsed": false,
     "input": [
      "import numpy as np\n",
      "import scipy as sp\n",
      "import matplotlib.pyplot as plt"
     ],
     "language": "python",
     "metadata": {},
     "outputs": [],
     "prompt_number": 1
    },
    {
     "cell_type": "heading",
     "level": 2,
     "metadata": {},
     "source": [
      "Load the data"
     ]
    },
    {
     "cell_type": "code",
     "collapsed": false,
     "input": [
      "f = open(\"/Users/leslieniu/Desktop/ml-10M100K/movies.dat\")\n",
      "f1 = open (\"/Users/leslieniu/Desktop/ml-10M100K/ratings.dat\")\n",
      "f2 = open (\"/Users/leslieniu/Desktop/ml-10M100K/tags.dat\")\n",
      "\n",
      "movie_id = []\n",
      "movie_title = []\n",
      "movie_genres =[]\n",
      "while True:\n",
      "    line = f.readline().strip().split('::')\n",
      "    line1 = line[0:-1]\n",
      "    line2 = line[-1]\n",
      "    \n",
      "    line1 = [line1 for line1 in line1 if line1]\n",
      "    \n",
      "    \n",
      "    if line!= ['']:\n",
      "        movie_id.append(line1[0])\n",
      "        movie_title.append(line1[1:])\n",
      "        movie_genres.append(line2)\n",
      "        #print(line)\n",
      "    else:\n",
      "        break\n",
      "    \n",
      "tags = []\n",
      "while True:\n",
      "    linet = f2.readline().strip().split('::')\n",
      "    linet = [linet for linet in linet if linet]\n",
      "    if linet != []:\n",
      "        tags.append(linet)\n",
      "        #print(linet)\n",
      "    else:\n",
      "        break\n",
      "        \n",
      "ratings = []\n",
      "while True:\n",
      "    liner = f1.readline().strip().split('::')\n",
      "    liner = [liner for liner in liner if liner]\n",
      "    if liner != []:\n",
      "        ratings.append(liner)\n",
      "        #print(liner)\n",
      "    else:\n",
      "        break\n",
      "    \n",
      "    \n"
     ],
     "language": "python",
     "metadata": {},
     "outputs": [],
     "prompt_number": 20
    },
    {
     "cell_type": "heading",
     "level": 3,
     "metadata": {},
     "source": [
      "number of the movies"
     ]
    },
    {
     "cell_type": "code",
     "collapsed": false,
     "input": [
      "print (len(movie_id))"
     ],
     "language": "python",
     "metadata": {},
     "outputs": [
      {
       "output_type": "stream",
       "stream": "stdout",
       "text": [
        "10681\n"
       ]
      }
     ],
     "prompt_number": 19
    },
    {
     "cell_type": "heading",
     "level": 3,
     "metadata": {},
     "source": [
      "number of the movies in each genres"
     ]
    },
    {
     "cell_type": "code",
     "collapsed": false,
     "input": [
      "Action = 0\n",
      "Adventure = 0\n",
      "Animation = 0\n",
      "Children = 0\n",
      "Comedy = 0\n",
      "Crime = 0 \n",
      "Documentary = 0\n",
      "Drama = 0 \n",
      "Fantasy = 0\n",
      "FilmNoir = 0\n",
      "Horror = 0\n",
      "Musical = 0\n",
      "Mystery = 0\n",
      "Romance = 0\n",
      "SciFi = 0\n",
      "Thriller = 0\n",
      "War = 0\n",
      "Western = 0\n",
      "for i in range(len(movie_genres)):\n",
      "    if movie_genres[i]=='Action':\n",
      "        Action = Action +1\n",
      "    if movie_genres[i]=='Adventure':\n",
      "        Adventure = Adventure +1\n",
      "    if movie_genres[i]=='Animation':\n",
      "        Animation = Animation +1\n",
      "    if movie_genres[i]=='Children':\n",
      "        Children = Children +1\n",
      "    if movie_genres[i]=='Comedy':\n",
      "        Comedy = Comedy +1\n",
      "    if movie_genres[i]=='Crime':\n",
      "        Crime = Crime +1\n",
      "    if movie_genres[i]=='Documentary':\n",
      "        Documentary = Documentary +1\n",
      "    if movie_genres[i]=='Drama':\n",
      "        Drama = Drama +1\n",
      "    if movie_genres[i]=='Fantasy':\n",
      "        Fantasy = Fantasy +1\n",
      "    if movie_genres[i]=='Film-Noir':\n",
      "        FilmNoir = FilmNoir +1\n",
      "    if movie_genres[i]=='Horror':\n",
      "        Horror = Horror +1\n",
      "    if movie_genres[i]=='Musical':\n",
      "        Musical = Musical +1\n",
      "    if movie_genres[i]=='Mystery':\n",
      "        Mystery = Mystery +1\n",
      "    if movie_genres[i]=='Romance':\n",
      "        Romance = Romance +1\n",
      "    if movie_genres[i]=='Sci-Fi':\n",
      "        SciFi = SciFi +1\n",
      "    if movie_genres[i]=='War':\n",
      "        War = War +1\n",
      "    if movie_genres[i]=='War':\n",
      "        War = War +1\n",
      "    if movie_genres[i]=='Western':\n",
      "        Western = Western +1\n",
      "        \n",
      "print('Action=',Action)\n",
      "print('Adventure=',Adventure)\n",
      "print('Animation=',Animation)\n",
      "print('Children=',Children)\n",
      "print('Comedy=',Comedy)\n",
      "print('Crime=',Crime)\n",
      "print('Documentary=',Documentary)\n",
      "print('Drama=',Drama)\n",
      "print('Fantasy=',Fantasy)\n",
      "print('Film-Noir=',FilmNoir)\n",
      "print('Horror=',Horror)\n",
      "print('Musical=',Musical)\n",
      "print('Mystery=',Mystery)\n",
      "print('Romance=',Romance)\n",
      "print('Sci-Fi=',SciFi)\n",
      "print('Thriller=',Thriller)\n",
      "print('War=',War)\n",
      "print('Western=',Western)\n"
     ],
     "language": "python",
     "metadata": {},
     "outputs": [
      {
       "output_type": "stream",
       "stream": "stdout",
       "text": [
        "('Action=', 82)\n",
        "('Adventure=', 32)\n",
        "('Animation=', 3)\n",
        "('Children=', 4)\n",
        "('Comedy=', 1047)\n",
        "('Crime=', 26)\n",
        "('Documentary=', 350)\n",
        "('Drama=', 1817)\n",
        "('Fantasy=', 2)\n",
        "('Film-Noir=', 12)\n",
        "('Horror=', 267)\n",
        "('Musical=', 26)\n",
        "('Mystery=', 6)\n",
        "('Romance=', 38)\n",
        "('Sci-Fi=', 54)\n",
        "('Thriller=', 0)\n",
        "('War=', 38)\n",
        "('Western=', 92)\n"
       ]
      }
     ],
     "prompt_number": 17
    },
    {
     "cell_type": "heading",
     "level": 3,
     "metadata": {},
     "source": [
      "number of tags"
     ]
    },
    {
     "cell_type": "code",
     "collapsed": false,
     "input": [
      "print(len(tags))"
     ],
     "language": "python",
     "metadata": {},
     "outputs": [
      {
       "output_type": "stream",
       "stream": "stdout",
       "text": [
        "95580\n"
       ]
      }
     ],
     "prompt_number": 15
    },
    {
     "cell_type": "heading",
     "level": 3,
     "metadata": {},
     "source": [
      "number of tags"
     ]
    },
    {
     "cell_type": "code",
     "collapsed": false,
     "input": [
      "print(len(ratings))"
     ],
     "language": "python",
     "metadata": {},
     "outputs": [
      {
       "output_type": "stream",
       "stream": "stdout",
       "text": [
        "1264582\n"
       ]
      }
     ],
     "prompt_number": 16
    },
    {
     "cell_type": "code",
     "collapsed": false,
     "input": [],
     "language": "python",
     "metadata": {},
     "outputs": []
    }
   ],
   "metadata": {}
  }
 ]
}