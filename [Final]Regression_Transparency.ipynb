{
 "metadata": {
  "name": "",
  "signature": "sha256:2aa5660e0b55c6633796d663c5630530c636a2a288c9b0bf18217bf3907a92e4"
 },
 "nbformat": 3,
 "nbformat_minor": 0,
 "worksheets": [
  {
   "cells": [
    {
     "cell_type": "heading",
     "level": 2,
     "metadata": {},
     "source": [
      "Import packages"
     ]
    },
    {
     "cell_type": "code",
     "collapsed": false,
     "input": [
      "%matplotlib inline\n",
      "import numpy as np\n",
      "import scipy as sp\n",
      "import matplotlib.pyplot as plt\n",
      "\n",
      "import pandas as pd"
     ],
     "language": "python",
     "metadata": {},
     "outputs": [],
     "prompt_number": 1
    },
    {
     "cell_type": "heading",
     "level": 2,
     "metadata": {},
     "source": [
      "Load the data"
     ]
    },
    {
     "cell_type": "code",
     "collapsed": false,
     "input": [
      "#read data from file \n",
      "names1 = ['MovieID', 'Title',  'Genres']\n",
      "moviedata = pd.read_csv(\"/Users/leslieniu/Desktop/ml-10M100K/movies.dat\", sep='::', names=names1)\n",
      "\n",
      "\n",
      "names2 = ['UserID', 'MovieID', 'Rating', '']\n",
      "rating = pd.read_csv(\"/Users/leslieniu/Desktop/ml-10M100K/ratings.dat\", sep='::', names=names2,usecols=range(3))\n",
      "\n",
      "names3 =['UserID', 'MovieID', 'Tag','']\n",
      "tag = pd.read_csv(\"/Users/leslieniu/Desktop/ml-10M100K/tags.dat\", sep='::', names=names3,usecols=range(3))"
     ],
     "language": "python",
     "metadata": {},
     "outputs": [
      {
       "output_type": "stream",
       "stream": "stderr",
       "text": [
        "/usr/local/lib/python2.7/site-packages/pandas/io/parsers.py:639: ParserWarning: Falling back to the 'python' engine because the 'c' engine does not support regex separators; you can avoid this warning by specifying engine='python'.\n",
        "  ParserWarning)\n"
       ]
      }
     ],
     "prompt_number": 2
    },
    {
     "cell_type": "heading",
     "level": 2,
     "metadata": {},
     "source": [
      "Group data"
     ]
    },
    {
     "cell_type": "code",
     "collapsed": false,
     "input": [
      "#merge the rating and moviedata\n",
      "rm_data = pd.merge(rating,moviedata)\n",
      "#merge the rating and tag data\n",
      "rt_data = pd.merge(rating,tag)"
     ],
     "language": "python",
     "metadata": {},
     "outputs": [],
     "prompt_number": 3
    },
    {
     "cell_type": "heading",
     "level": 3,
     "metadata": {},
     "source": [
      "1.Group the rating_movie data by UserID"
     ]
    },
    {
     "cell_type": "code",
     "collapsed": false,
     "input": [
      "tmp_rm = rm_data[['UserID','MovieID','Rating','Title','Genres']]\n",
      "print tmp_rm.head()\n",
      "print len(tmp_rm)"
     ],
     "language": "python",
     "metadata": {},
     "outputs": [
      {
       "output_type": "stream",
       "stream": "stdout",
       "text": [
        "   UserID  MovieID  Rating             Title          Genres\n",
        "0       1      122     5.0  Boomerang (1992)  Comedy|Romance\n",
        "1     139      122     3.0  Boomerang (1992)  Comedy|Romance\n",
        "2     149      122     2.5  Boomerang (1992)  Comedy|Romance\n",
        "3     182      122     3.0  Boomerang (1992)  Comedy|Romance\n",
        "4     215      122     4.5  Boomerang (1992)  Comedy|Romance\n",
        "10000054\n"
       ]
      }
     ],
     "prompt_number": 4
    },
    {
     "cell_type": "code",
     "collapsed": false,
     "input": [
      "grp_rm = tmp_rm.groupby('UserID')\n",
      "len(grp_rm)  # 69879:the number of users give the rating\n",
      "\n",
      "groups_rm = dict(list(grp_rm))"
     ],
     "language": "python",
     "metadata": {},
     "outputs": [],
     "prompt_number": 5
    },
    {
     "cell_type": "heading",
     "level": 3,
     "metadata": {},
     "source": [
      "2.Group the rating_tag data by UserID"
     ]
    },
    {
     "cell_type": "code",
     "collapsed": false,
     "input": [
      "tmp_rt = rt_data[['UserID','MovieID','Rating','Tag']]\n",
      "print tmp_rt.head()\n",
      "print len(tmp_rt)"
     ],
     "language": "python",
     "metadata": {},
     "outputs": [
      {
       "output_type": "stream",
       "stream": "stdout",
       "text": [
        "   UserID  MovieID  Rating                                    Tag\n",
        "0      48    54775     4.5  The Director Should be given a grammy\n",
        "1      75      353     3.5                                 tissit\n",
        "2      78     4223     5.0                            want to own\n",
        "3     175     2819     5.0                           skullduggery\n",
        "4     175    51540     4.0                             bad ending\n",
        "44805\n"
       ]
      }
     ],
     "prompt_number": 6
    },
    {
     "cell_type": "code",
     "collapsed": false,
     "input": [
      "b= []\n",
      "grp_rt = tmp_rt.groupby('UserID')\n",
      "#len(grp_rt)  #2026:the number of users both give rating and tag\n",
      "\n",
      "groups_rt = dict(list(grp_rt))\n",
      "#for i in groups_rt:\n",
      "    #if len(groups_rt[i]) > 900:\n",
      "        #print groups_rt[i].UserID\n",
      "    "
     ],
     "language": "python",
     "metadata": {},
     "outputs": [],
     "prompt_number": 7
    },
    {
     "cell_type": "heading",
     "level": 3,
     "metadata": {},
     "source": [
      "3.how many users both give rating and tag"
     ]
    },
    {
     "cell_type": "code",
     "collapsed": false,
     "input": [
      "user_r_t = rt_data['UserID'].value_counts()\n",
      "u_r_t=pd.DataFrame({'UserID': user_r_t.index})\n",
      "#u_r_t"
     ],
     "language": "python",
     "metadata": {},
     "outputs": [],
     "prompt_number": 8
    },
    {
     "cell_type": "heading",
     "level": 2,
     "metadata": {},
     "source": [
      "Random choose 100 users from rating data"
     ]
    },
    {
     "cell_type": "code",
     "collapsed": false,
     "input": [
      "np.random.seed(20)  #set the seed=20\n",
      "df = pd.DataFrame(u_r_t)\n",
      "random_user=df.loc[np.random.choice(df.index, 100, replace=False)]\n",
      "#random_user"
     ],
     "language": "python",
     "metadata": {},
     "outputs": [],
     "prompt_number": 9
    },
    {
     "cell_type": "code",
     "collapsed": false,
     "input": [
      "#number of distinct tags\n",
      "distinct_tag = tag['Tag'].value_counts()\n",
      "d_tag=pd.DataFrame({'Distinct Tag Count': distinct_tag})\n",
      "#print d_tag\n",
      "\n",
      "#Number of distinct movies in the rating data\n",
      "distinct_movie_rating = rating['MovieID'].value_counts()\n",
      "dmf=pd.DataFrame({'Distinct': distinct_movie_rating})\n",
      "\n",
      "#The average rating for each movie\n",
      "grp = tmp_rm.groupby('MovieID')\n",
      "mean_rating = grp.mean()\n",
      "\n",
      "genres = set()\n",
      "for m in moviedata.Genres:\n",
      "    genres.update(g for g in m.split('|'))\n",
      "genres = sorted(genres)\n",
      "for genre in genres:\n",
      "    moviedata[genre] = [genre in movie.split('|') for movie in moviedata.Genres]\n",
      "\n",
      "movie_genres = moviedata[genres].sum().index[1:]\n"
     ],
     "language": "python",
     "metadata": {},
     "outputs": [],
     "prompt_number": 10
    },
    {
     "cell_type": "heading",
     "level": 2,
     "metadata": {},
     "source": [
      "Build database for each random user"
     ]
    },
    {
     "cell_type": "code",
     "collapsed": false,
     "input": [
      "l1= []\n",
      "l2= []\n",
      "l3 =[]\n",
      "l4 =[]\n",
      "l5 =[]\n",
      "l6 =[]\n",
      "l7 =[]\n",
      "for user in random_user.UserID:\n",
      "    \n",
      "    #####Split movie Genres  into 0 or 1#####\n",
      "    \n",
      "    data1 = pd.DataFrame(groups_rm[user]).reset_index() #replace the index with simple sequential numbers\n",
      "    #genre_iter = (set(x.split('|')) for x in data1.Genres)\n",
      "    #movie_genres = sorted(set.union(*genre_iter))\n",
      "    dummies = pd.DataFrame(np.zeros((len(data1), len(movie_genres))), columns=movie_genres)\n",
      "    for i, gen in enumerate(data1.Genres):\n",
      "        dummies.ix[i, gen.split('|')] = 1\n",
      "        \n",
      "    movies_table = data1.join(dummies)\n",
      "    l4.append(user)\n",
      "    \n",
      "    \n",
      "    \n",
      "    \n",
      "    #####read tags into 0 and 1#####\n",
      "    \n",
      "    data2 = pd.DataFrame(groups_rt[user]).reset_index() #replace the index with simple sequ                                              ential numbers\n",
      "    dummies_tag = pd.DataFrame(np.zeros((len(data2), len(distinct_tag))), columns=d_tag.index)\n",
      "    for i, tag in enumerate(data2.Tag):\n",
      "        dummies_tag.ix[i, tag] = 1\n",
      "        #print dummies_tag.ix[i]\n",
      "    #tag_table = data2.join(dummies_tag)\n",
      "    \n",
      "    \n",
      "    \n",
      "    #####Compute mean ratings#####\n",
      "    \n",
      "    ratingname= ['meanrating']\n",
      "    dummies1 = pd.DataFrame(np.zeros((len(data1), 1)), columns = ratingname)\n",
      "    j = 0\n",
      "    for p in movies_table.MovieID:\n",
      "        if j <= len(dummies1):\n",
      "            a = dmf[dmf.index == p].Distinct.values #number of ratings for this movie\n",
      "            b = mean_rating[mean_rating.index == p].Rating.values #all uers mean rating for this moive\n",
      "            c= movies_table[movies_table.MovieID == p].Rating.values #the rating of this movie that the user give\n",
      "            d = dmf[dmf.index == p].Distinct.values -1 #number of ratings for this movie except this user\n",
      "            \n",
      "            if d != 0:\n",
      "                meanrating = (a*b-c)/d\n",
      "            else:\n",
      "                meanrating = b\n",
      "            dummies1.ix[j]= meanrating\n",
      "            j = j+1\n",
      "    tmp_table = movies_table.join(dummies1)\n",
      "    \n",
      "    \n",
      "    #####Compute the number of ratings#####\n",
      "    \n",
      "    ratingname= ['rating_num']\n",
      "    dummies2 = pd.DataFrame(np.zeros((len(data1), 1)), columns = ratingname)\n",
      "    m = 0\n",
      "    for n in movies_table.MovieID:\n",
      "        if m <= len(dummies1):\n",
      "            a = dmf[dmf.index == n].Distinct.values #number of ratings for this movie\n",
      "            dummies2.ix[m]= a\n",
      "            m = m+1\n",
      "    tmp_table2 = tmp_table.join(dummies2)\n",
      "    \n",
      "    #####Compute the average rating for each user#####\n",
      "    average_rating = round(tmp_table2.Rating.mean(),1)\n",
      "    l5.append(average_rating)\n",
      "    \n",
      "    #####Compute the number of ratings for each user#####\n",
      "    rating_num_tmp = tmp_table2.UserID.value_counts()\n",
      "    rating_num = rating_num_tmp.values\n",
      "    l6.append(rating_num)\n",
      "    \n",
      "    \n",
      "    \n",
      "\n",
      "    \n",
      "    \n",
      " \n",
      "     \n",
      "    #####cross validation#####\n",
      "    #split data into training set and testing set\n",
      "    tmp_X = tmp_table2[['meanrating','rating_num']].join(dummies)\n",
      "    #X = pd.concat([tmp_X,dummies_tag],axis=1).fillna(0).values\n",
      "    #print X\n",
      "    Y = tmp_table2[['Rating']].values\n",
      "    x1 = []\n",
      "    x2 = []\n",
      "    for i in tmp_X.ix[:,0]:\n",
      "        t1 = round(i/tmp_X.ix[:,0].max(),1)\n",
      "        x1.append(t1)\n",
      "    ##Normalise rating_num\n",
      "    for j in tmp_X.ix[:,1]:\n",
      "        t2 = round(j/tmp_X.ix[:,1].max(),1)\n",
      "        x2.append(t2)\n",
      "\n",
      "    X1 = pd.DataFrame({'meanrating': x1})\n",
      "    X2 = pd.DataFrame({'rating_num': x2})\n",
      "    tmp_X1 = X1.join(X2).join(dummies)\n",
      "    X = pd.concat([tmp_X1,dummies_tag],axis=1).fillna(0).values\n",
      "    \n",
      "\n",
      "    \n",
      "    \n",
      "    \n",
      "    \n",
      "    from sklearn.cross_validation import train_test_split\n",
      "    X_train, X_test, Y_train, Y_test = train_test_split(X, Y, test_size=0.2, random_state=42)\n",
      "    \n",
      "    \n",
      "    #LinearRegression\n",
      "    \n",
      "    from sklearn.linear_model import LinearRegression\n",
      "    clf1 = LinearRegression()\n",
      "    clf1.fit(X_train,Y_train)\n",
      "    # The mean absolute error\n",
      "    mae1 = round(np.mean(np.abs(clf1.predict(X_test) - Y_test)),2)\n",
      "    #print (\"LinearRegression MAE: %.2f\" % np.mean(np.abs(clf1.predict(X_test) - Y_test)))\n",
      "    l1.append(mae1)\n",
      "    \n",
      "    #Ridge Regression\n",
      "    from sklearn.linear_model import Ridge\n",
      "    clf2 = Ridge(alpha=10.0)\n",
      "    clf2.fit(X_train,Y_train)\n",
      "    # The mean absolute error\n",
      "    mae2 = round(np.mean(np.abs(clf2.predict(X_test) - Y_test)),2)\n",
      "    #print (\"Ridge MAE: %.2f\" % np.mean(np.abs(clf2.predict(X_test) - Y_test)))\n",
      "    l2.append(mae2)\n",
      "    \n",
      "    #Lasso\n",
      "    from sklearn import linear_model\n",
      "    clf3 = linear_model.Lasso(alpha=0.01)\n",
      "    clf3.fit(X_train,Y_train)\n",
      "    # The mean absolute error\n",
      "    mae3 = round(np.mean(np.abs(clf3.predict(X_test) - Y_test)),2)\n",
      "    #print (\"Lasso MAE: %.2f\" % np.mean(np.abs(clf3.predict(X_test) - Y_test)))\n",
      "    l3.append(mae3)\n",
      "    \n",
      "    \n",
      "    #SVR\n",
      "    #from sklearn.svm import SVR\n",
      "    #clf4 = SVR(C=1.0, epsilon=0.2)\n",
      "    #clf4.fit(X_train,Y_train)\n",
      "    # The mean absolute error\n",
      "    #print (\"SVR MAE: %.2f\" % np.mean(np.abs(clf4.predict(X_test) - Y_test)))\n",
      "    \n",
      "    \n",
      "list1 = pd.DataFrame({'Linear MAE': l1})\n",
      "list2 = pd.DataFrame({'Ridge MAE': l2})\n",
      "list3 = pd.DataFrame({'Lasso MAE': l3})\n",
      "list4 = pd.DataFrame({'UserID': l4})\n",
      "list5 = pd.DataFrame({'avr_rating_user':l5})\n",
      "list6 = pd.DataFrame({'num_rating':l6})\n",
      "\n",
      "\n",
      "\n"
     ],
     "language": "python",
     "metadata": {},
     "outputs": [],
     "prompt_number": 11
    },
    {
     "cell_type": "code",
     "collapsed": false,
     "input": [
      "MAE_table = list4.join(list1).join(list2).join(list3).head(10)\n",
      "print MAE_table"
     ],
     "language": "python",
     "metadata": {},
     "outputs": [
      {
       "output_type": "stream",
       "stream": "stdout",
       "text": [
        "   UserID    Linear MAE  Ridge MAE  Lasso MAE\n",
        "0   49935  5.500000e-01       0.65       0.77\n",
        "1   59474  7.200000e-01       0.67       0.76\n",
        "2    5593  5.300000e-01       0.34       0.53\n",
        "3    6119  3.387917e+09       0.41       0.49\n",
        "4   37987  9.500000e-01       0.93       1.04\n",
        "5   21668  6.400000e-01       0.56       0.75\n",
        "6   64264  6.200000e-01       0.50       0.51\n",
        "7   69668  5.400000e-01       0.52       0.62\n",
        "8   63700  5.900000e-01       0.31       0.42\n",
        "9   55403  1.040000e+00       1.13       1.10\n"
       ]
      }
     ],
     "prompt_number": 12
    },
    {
     "cell_type": "code",
     "collapsed": false,
     "input": [
      "list_mean1 = pd.DataFrame({'Linear MAE mean': pd.DataFrame(l1).mean()})\n",
      "list_mean2 = pd.DataFrame({'Ridge MAE mean': pd.DataFrame(l2).mean()})\n",
      "list_mean3 = pd.DataFrame({'Lasso MAE mean': pd.DataFrame(l3).mean()})\n",
      "MAE_mean_table = list_mean1.join(list_mean2).join(list_mean3)\n",
      "print MAE_mean_table"
     ],
     "language": "python",
     "metadata": {},
     "outputs": [
      {
       "output_type": "stream",
       "stream": "stdout",
       "text": [
        "   Linear MAE mean  Ridge MAE mean  Lasso MAE mean\n",
        "0     2.787566e+10          0.6565          0.8058\n"
       ]
      }
     ],
     "prompt_number": 13
    },
    {
     "cell_type": "code",
     "collapsed": false,
     "input": [
      "#####choose one user which UserID = 49935\n",
      "\n",
      "\n",
      "#####Split movie Genre into 0 or 1#####\n",
      "data1 = pd.DataFrame(groups_rm[49935]).reset_index() #replace the index with simple sequential numbers\n",
      "dummies = pd.DataFrame(np.zeros((len(data1), len(movie_genres))), columns=movie_genres)\n",
      "for i, gen in enumerate(data1.Genres):\n",
      "    dummies.ix[i, gen.split('|')] = 1\n",
      "movies_table = data1.join(dummies)\n",
      "\n",
      "#####read tags into 0 and 1#####\n",
      "data2 = pd.DataFrame(groups_rt[49935]).reset_index() #replace the index with simple sequ                                              ential numbers\n",
      "dummies_tag = pd.DataFrame(np.zeros((len(data2), len(distinct_tag))), columns=d_tag.index)\n",
      "for i, tag in enumerate(data2.Tag):\n",
      "    dummies_tag.ix[i, tag] = 1\n",
      "    #print dummies_tag.ix\n",
      "\n",
      "\n",
      "#####Compute mean ratings#####\n",
      "ratingname= ['meanrating']\n",
      "dummies1 = pd.DataFrame(np.zeros((len(data1), 1)), columns = ratingname)\n",
      "j = 0\n",
      "for p in movies_table.MovieID:\n",
      "    if j <= len(dummies1):\n",
      "        a = dmf[dmf.index == p].Distinct.values #number of ratings for this movie\n",
      "        b = mean_rating[mean_rating.index == p].Rating.values #all uers mean rating for this moive\n",
      "        c= movies_table[movies_table.MovieID == p].Rating.values #the rating of this movie that the user give\n",
      "        d = dmf[dmf.index == p].Distinct.values -1 #number of ratings for this movie except this user\n",
      "            \n",
      "        if d != 0:\n",
      "            meanrating = (a*b-c)/d\n",
      "        else:\n",
      "            meanrating = b\n",
      "        dummies1.ix[j]= meanrating\n",
      "        j = j+1\n",
      "tmp_table = movies_table.join(dummies1)\n",
      "\n",
      "\n",
      "#####Compute the number of ratings#####\n",
      "ratingname= ['rating_num']\n",
      "dummies2 = pd.DataFrame(np.zeros((len(data1), 1)), columns = ratingname)\n",
      "m = 0\n",
      "for n in movies_table.MovieID:\n",
      "    if m <= len(dummies1):\n",
      "        a = dmf[dmf.index == n].Distinct.values #number of ratings for this movie\n",
      "        dummies2.ix[m]= a\n",
      "        m = m+1\n",
      "tmp_table2 = tmp_table.join(dummies2)\n",
      "\n",
      "\n",
      "    \n",
      "\n",
      "\n"
     ],
     "language": "python",
     "metadata": {},
     "outputs": [],
     "prompt_number": 14
    },
    {
     "cell_type": "code",
     "collapsed": false,
     "input": [
      "#####Compute the average rating for this user#####\n",
      "average_rating = round(tmp_table2.Rating.mean(),1)\n",
      "print ('The average rating of this user is        : %0.2f' % average_rating)\n",
      "\n",
      "#####compute the overall rating \n",
      "print ('The overall average rating is             : %0.2f' % rm_data.Rating.mean())\n",
      "\n",
      "#####Compute the number of ratings for each user#####\n",
      "rating_num_tmp = tmp_table2.UserID.value_counts()\n",
      "rating_num = int(rating_num_tmp.values)\n",
      "print ('The number of movies this user rated      : %d' % rating_num) \n",
      "\n",
      "#####average rating numbers for each user#####\n",
      "count = rm_data['UserID'].value_counts()\n",
      "print ('On average number of rated movie per user : %d' % count.mean()) \n",
      "\n",
      "    \n",
      "#####Compute the genre distribution#####"
     ],
     "language": "python",
     "metadata": {},
     "outputs": [
      {
       "output_type": "stream",
       "stream": "stdout",
       "text": [
        "The average rating of this user is        : 3.60\n",
        "The overall average rating is             : 3.51"
       ]
      },
      {
       "output_type": "stream",
       "stream": "stdout",
       "text": [
        "\n",
        "The number of movies this user rated      : 205\n",
        "On average number of rated movie per user : 143"
       ]
      },
      {
       "output_type": "stream",
       "stream": "stdout",
       "text": [
        "\n"
       ]
      }
     ],
     "prompt_number": 15
    },
    {
     "cell_type": "code",
     "collapsed": false,
     "input": [
      "tmp_X = tmp_table2[['meanrating','rating_num']].join(dummies)\n",
      "Y = tmp_table2[['Rating']]\n",
      "\n",
      "#####Normalize meanrating and rating_num#####\n",
      "\n",
      "##Normalize meanrating##\n",
      "x1 = []\n",
      "x2 = []\n",
      "for i in tmp_X.ix[:,0]:\n",
      "    t1 = round(i/tmp_X.ix[:,0].max(),1)\n",
      "    x1.append(t1)\n",
      "##Normalise rating_num\n",
      "for j in tmp_X.ix[:,1]:\n",
      "    t2 = round(j/tmp_X.ix[:,1].max(),1)\n",
      "    x2.append(t2)\n",
      "\n",
      "X1 = pd.DataFrame({'meanrating': x1})\n",
      "X2 = pd.DataFrame({'rating_num': x2})\n",
      "tmp_X1 = X1.join(X2).join(dummies)\n",
      "X = pd.concat([tmp_X1,dummies_tag],axis=1).fillna(0)\n",
      "\n",
      "\n",
      "#cross validation 10 fold#\n",
      "from sklearn.cross_validation import train_test_split\n",
      "X_train, X_test, Y_train, Y_test = train_test_split(X, Y, test_size=0.2, random_state=42)\n",
      "\n",
      "\n",
      "#Lasso\n",
      "from sklearn.linear_model import Lasso\n",
      "lasso = Lasso(alpha=0.01)\n",
      "res = lasso.fit(X_train,Y_train)\n",
      "# The mean absolute error\n",
      "mae_lasso = np.mean(np.abs(res.predict(X_test) - Y_test))\n",
      "print ('MAE for Lasso is  : %0.4f' % mae_lasso)\n",
      "\n",
      "#Ridge\n",
      "from sklearn.linear_model import Ridge\n",
      "ridge = Ridge(alpha=0.1)\n",
      "res1 = ridge.fit(X_train,Y_train)\n",
      "# The mean absolute error\n",
      "mae_ridge = np.mean(np.abs(res1.predict(X_test) - Y_test))\n",
      "print ('MAE for Ridge is  : %0.4f' % mae_ridge)"
     ],
     "language": "python",
     "metadata": {},
     "outputs": [
      {
       "output_type": "stream",
       "stream": "stdout",
       "text": [
        "MAE for Lasso is  : 0.7713\n",
        "MAE for Ridge is  : 0.5436\n"
       ]
      }
     ],
     "prompt_number": 16
    },
    {
     "cell_type": "code",
     "collapsed": false,
     "input": [
      "#####print the coefficient \n",
      "coef = res1.coef_.ravel()\n",
      "print res.coef_  ###Lasso coef\n",
      "print coef      ###Ridge coef4"
     ],
     "language": "python",
     "metadata": {},
     "outputs": [
      {
       "output_type": "stream",
       "stream": "stdout",
       "text": [
        "[ 3.64377683 -0.06368691  0.01345303 ...,  0.          0.          0.        ]\n",
        "[ 4.58323874 -0.51433234  0.18752276 ...,  0.          0.          0.        ]\n"
       ]
      }
     ],
     "prompt_number": 17
    },
    {
     "cell_type": "code",
     "collapsed": false,
     "input": [
      "#####Overall influence######\n",
      "\n",
      "###choose the Ridge Regression \n",
      "genre_sort_asc = np.argsort(coef)\n",
      "genre_sort_desc = np.argsort(coef)[::-1][:n]\n",
      "\n",
      "\n",
      "#The Posotive top 10 features and wights\n",
      "f_pos = X.columns.values[genre_sort_desc][:10]\n",
      "w_pos = coef[np.argsort(coef)[::-1][:n][:10]]\n",
      "\n",
      "a = pd.DataFrame({'Pos_features': f_pos})\n",
      "b = pd.DataFrame({'Pos_weights': w_pos})\n",
      "print a.join(b)\n",
      "\n"
     ],
     "language": "python",
     "metadata": {},
     "outputs": [
      {
       "output_type": "stream",
       "stream": "stdout",
       "text": [
        "          Pos_features  Pos_weights\n",
        "0           meanrating     4.583239\n",
        "1            Animation     0.842517\n",
        "2               Action     0.187523\n",
        "3             Thriller     0.118689\n",
        "4                Drama     0.032291\n",
        "5              Fantasy     0.020805\n",
        "6              glamour     0.000000\n",
        "7           playground     0.000000\n",
        "8      Post Apocalypse     0.000000\n",
        "9  corporate espionage     0.000000\n"
       ]
      }
     ],
     "prompt_number": 18
    },
    {
     "cell_type": "code",
     "collapsed": false,
     "input": [
      "#The Negative top 10 features and weights\n",
      "f_neg = X.columns.values[genre_sort_asc][:10]\n",
      "w_neg = coef[np.argsort(coef)[:10]]\n",
      "\n",
      "c = pd.DataFrame({'Neg_features': f_neg})\n",
      "d = pd.DataFrame({'Neg_weights': w_neg})\n",
      "print c.join(d)\n"
     ],
     "language": "python",
     "metadata": {},
     "outputs": [
      {
       "output_type": "stream",
       "stream": "stdout",
       "text": [
        "          Neg_features  Neg_weights\n",
        "0  seen more than once    -2.261479\n",
        "1          llama face!    -1.686326\n",
        "2              Western    -0.923463\n",
        "3              Musical    -0.907463\n",
        "4                  War    -0.632668\n",
        "5           rating_num    -0.514332\n",
        "6               Sci-Fi    -0.354477\n",
        "7              Mystery    -0.298454\n",
        "8             Children    -0.196112\n",
        "9            Film-Noir    -0.181910\n"
       ]
      }
     ],
     "prompt_number": 19
    },
    {
     "cell_type": "code",
     "collapsed": false,
     "input": [
      "#####print only Genre information#####\n",
      "#The positive top 10 genre features\n",
      "genre_sort_desc1 = np.argsort(coef[2:21])[::-1][:n]\n",
      "pos_gen_feature= X.columns.values[2:21][genre_sort_desc1][:10]\n",
      "pos_gen_weight = sorted(coef[2:21], reverse=True)[:10]\n",
      "\n",
      "a1 = pd.DataFrame({'Pos_Genres': pos_gen_feature})\n",
      "b1 = pd.DataFrame({'Pos_weights': pos_gen_weight})\n",
      "print a1.join(b1)\n"
     ],
     "language": "python",
     "metadata": {},
     "outputs": [
      {
       "output_type": "stream",
       "stream": "stdout",
       "text": [
        "    Pos_Genres  Pos_weights\n",
        "0    Animation     0.842517\n",
        "1       Action     0.187523\n",
        "2     Thriller     0.118689\n",
        "3        Drama     0.032291\n",
        "4      Fantasy     0.020805\n",
        "5  Documentary     0.000000\n",
        "6         IMAX     0.000000\n",
        "7        Crime    -0.008514\n",
        "8       Horror    -0.022951\n",
        "9       Comedy    -0.087905\n"
       ]
      }
     ],
     "prompt_number": 20
    },
    {
     "cell_type": "code",
     "collapsed": false,
     "input": [
      "#The Negative top 10 genre features\n",
      "genre_sort_asc1 = np.argsort(coef[2:21])\n",
      "neg_gen_feature= X.columns.values[2:21][genre_sort_asc1][:10]\n",
      "neg_gen_weight = sorted(coef[2:21])[:10]\n",
      "\n",
      "c1 = pd.DataFrame({'Neg_Genres': neg_gen_feature})\n",
      "d1 = pd.DataFrame({'Neg_weights': neg_gen_weight})\n",
      "print c1.join(d1)"
     ],
     "language": "python",
     "metadata": {},
     "outputs": [
      {
       "output_type": "stream",
       "stream": "stdout",
       "text": [
        "  Neg_Genres  Neg_weights\n",
        "0    Western    -0.923463\n",
        "1    Musical    -0.907463\n",
        "2        War    -0.632668\n",
        "3     Sci-Fi    -0.354477\n",
        "4    Mystery    -0.298454\n",
        "5   Children    -0.196112\n",
        "6  Film-Noir    -0.181910\n",
        "7  Adventure    -0.119259\n",
        "8    Romance    -0.091542\n",
        "9     Comedy    -0.087905\n"
       ]
      }
     ],
     "prompt_number": 21
    },
    {
     "cell_type": "code",
     "collapsed": false,
     "input": [
      "#####Print only tag information \n",
      "\n",
      "#The positive top 10 tag features\n",
      "genre_sort_desc2 = np.argsort(coef[21:])[::-1][:n]\n",
      "pos_tag_feature= X.columns.values[21:][genre_sort_desc2][:10]\n",
      "pos_tag_weight = sorted(coef[21:], reverse=True)[:10]\n",
      "\n",
      "a2 = pd.DataFrame({'Pos_Tags': pos_tag_feature})\n",
      "b2 = pd.DataFrame({'Pos_weights': pos_tag_weight})\n",
      "print a2.join(b2)"
     ],
     "language": "python",
     "metadata": {},
     "outputs": [
      {
       "output_type": "stream",
       "stream": "stdout",
       "text": [
        "                        Pos_Tags  Pos_weights\n",
        "0   Glaring holes in movie logic            0\n",
        "1                   john lithgow            0\n",
        "2               physical therapy            0\n",
        "3                       sadistic            0\n",
        "4  remakeOf:Freaky Friday (1977)            0\n",
        "5                    trilogy:Apu            0\n",
        "6                  Richard Pryor            0\n",
        "7           Matheus Nachtergaele            0\n",
        "8                  great villain            0\n",
        "9             author:Jurek Becke            0\n"
       ]
      }
     ],
     "prompt_number": 22
    },
    {
     "cell_type": "code",
     "collapsed": false,
     "input": [
      "#The Negative top 10 tag features\n",
      "genre_sort_asc2 = np.argsort(coef[21:])\n",
      "neg_tag_feature= X.columns.values[21:][genre_sort_asc2][:10]\n",
      "neg_tag_weight = sorted(coef[21:])[:10]\n",
      "\n",
      "c2 = pd.DataFrame({'Neg_Tags': neg_tag_feature})\n",
      "d2 = pd.DataFrame({'Neg_weights': neg_tag_weight})\n",
      "print c2.join(d2)"
     ],
     "language": "python",
     "metadata": {},
     "outputs": [
      {
       "output_type": "stream",
       "stream": "stdout",
       "text": [
        "                                      Neg_Tags  Neg_weights\n",
        "0                          seen more than once    -2.261479\n",
        "1                                  llama face!    -1.686326\n",
        "2                                 Tumey's DVDs     0.000000\n",
        "3                           dumbest movie ever     0.000000\n",
        "4              definitley not as good as first     0.000000\n",
        "5  Adapted from the books by Louisa May Alcott     0.000000\n",
        "6                                  Horror Game     0.000000\n",
        "7                                     grifting     0.000000\n",
        "8                            See: Delicatessen     0.000000\n",
        "9                                  uma thurman     0.000000\n"
       ]
      }
     ],
     "prompt_number": 23
    },
    {
     "cell_type": "code",
     "collapsed": false,
     "input": [
      "#####Choose a user who has tag information#####\n",
      "#####The userID is 23172\n",
      "\n",
      "#####Split movie Genre into 0 or 1#####\n",
      "data1 = pd.DataFrame(groups_rm[11898]).reset_index() #replace the index with simple sequential numbers\n",
      "dummies = pd.DataFrame(np.zeros((len(data1), len(movie_genres))), columns=movie_genres)\n",
      "for i, gen in enumerate(data1.Genres):\n",
      "    dummies.ix[i, gen.split('|')] = 1\n",
      "movies_table = data1.join(dummies)\n",
      "\n",
      "\n",
      "#####read tags into 0 and 1#####\n",
      "data2 = pd.DataFrame(groups_rt[11898]).reset_index() #replace the index with simple sequ                                              ential numbers\n",
      "dummies_tag = pd.DataFrame(np.zeros((len(data2), len(distinct_tag))), columns=d_tag.index)\n",
      "for i, tag in enumerate(data2.Tag):\n",
      "    dummies_tag.ix[i, tag] = 1\n",
      "#print len(dummies_tag)\n",
      "\n",
      "\n",
      "#####Compute mean ratings#####\n",
      "ratingname= ['meanrating']\n",
      "dummies1 = pd.DataFrame(np.zeros((len(data1), 1)), columns = ratingname)\n",
      "j = 0\n",
      "for p in movies_table.MovieID:\n",
      "    if j <= len(dummies1):\n",
      "        a = dmf[dmf.index == p].Distinct.values #number of ratings for this movie\n",
      "        b = mean_rating[mean_rating.index == p].Rating.values #all uers mean rating for this moive\n",
      "        c= movies_table[movies_table.MovieID == p].Rating.values #the rating of this movie that the user give\n",
      "        d = dmf[dmf.index == p].Distinct.values -1 #number of ratings for this movie except this user\n",
      "            \n",
      "        if d != 0:\n",
      "            meanrating = (a*b-c)/d\n",
      "        else:\n",
      "            meanrating = b\n",
      "        dummies1.ix[j]= meanrating\n",
      "        j = j+1\n",
      "tmp_table = movies_table.join(dummies1)\n",
      "\n",
      "\n",
      "#####Compute the number of ratings#####\n",
      "ratingname= ['rating_num']\n",
      "dummies2 = pd.DataFrame(np.zeros((len(data1), 1)), columns = ratingname)\n",
      "m = 0\n",
      "for n in movies_table.MovieID:\n",
      "    if m <= len(dummies1):\n",
      "        a = dmf[dmf.index == n].Distinct.values #number of ratings for this movie\n",
      "        dummies2.ix[m]= a\n",
      "        m = m+1\n",
      "tmp_table2 = tmp_table.join(dummies2)"
     ],
     "language": "python",
     "metadata": {},
     "outputs": [],
     "prompt_number": 24
    },
    {
     "cell_type": "code",
     "collapsed": false,
     "input": [
      "#####Compute the average rating for this user#####\n",
      "average_rating = round(tmp_table2.Rating.mean(),1)\n",
      "print ('The average rating of this user is        : %0.2f' % average_rating)\n",
      "\n",
      "#####compute the overall rating \n",
      "print ('The overall average rating is             : %0.2f' % rm_data.Rating.mean())\n",
      "\n",
      "#####Compute the number of ratings for each user#####\n",
      "rating_num_tmp = tmp_table2.UserID.value_counts()\n",
      "rating_num = int(rating_num_tmp.values)\n",
      "print ('The number of movies this user rated      : %d' % rating_num) \n",
      "#####The number of movie that the user give tag#####\n",
      "print ('The number of movies this user tag        : %d' % len(dummies_tag))\n",
      "#####average rating numbers for each user#####\n",
      "count = rm_data['UserID'].value_counts()\n",
      "print ('On average number of rated movie per user : %d' % count.mean()) \n",
      "\n",
      "    \n",
      "#####Compute the genre distribution#####"
     ],
     "language": "python",
     "metadata": {},
     "outputs": [
      {
       "output_type": "stream",
       "stream": "stdout",
       "text": [
        "The average rating of this user is        : 2.90\n",
        "The overall average rating is             : 3.51"
       ]
      },
      {
       "output_type": "stream",
       "stream": "stdout",
       "text": [
        "\n",
        "The number of movies this user rated      : 1215\n",
        "The number of movies this user tag        : 973\n",
        "On average number of rated movie per user : 143"
       ]
      },
      {
       "output_type": "stream",
       "stream": "stdout",
       "text": [
        "\n"
       ]
      }
     ],
     "prompt_number": 25
    },
    {
     "cell_type": "code",
     "collapsed": false,
     "input": [
      "tmp_X = tmp_table2[['meanrating','rating_num']].join(dummies)\n",
      "Y = tmp_table2[['Rating']]\n",
      "\n",
      "#####Normalize meanrating and rating_num#####\n",
      "##Normalize meanrating##\n",
      "x1 = []\n",
      "x2 = []\n",
      "for i in tmp_X.ix[:,0]:\n",
      "    t1 = round(i/tmp_X.ix[:,0].max(),1)\n",
      "    x1.append(t1)\n",
      "##Normalise rating_num\n",
      "for j in tmp_X.ix[:,1]:\n",
      "    t2 = round(j/tmp_X.ix[:,1].max(),1)\n",
      "    x2.append(t2)\n",
      "\n",
      "X1 = pd.DataFrame({'meanrating': x1})\n",
      "X2 = pd.DataFrame({'rating_num': x2})\n",
      "tmp_X1 = X1.join(X2).join(dummies)\n",
      "X = pd.concat([tmp_X1,dummies_tag],axis=1).fillna(0)\n",
      "\n",
      "##cross validation 10 fold#\n",
      "from sklearn.cross_validation import train_test_split\n",
      "X_train, X_test, Y_train, Y_test = train_test_split(X, Y, test_size=0.2, random_state=42)\n",
      "\n",
      "\n",
      "#Lasso\n",
      "from sklearn.linear_model import Lasso\n",
      "lasso = Lasso(alpha=0.01)\n",
      "res = lasso.fit(X_train,Y_train)\n",
      "# The mean absolute error\n",
      "MAE_lasso = np.mean(np.abs(res.predict(X_test) - Y_test))\n",
      "print ('MAE for Lasso is  : %0.4f' % MAE_lasso)\n",
      "\n",
      "#Ridge\n",
      "from sklearn.linear_model import Ridge\n",
      "ridge = Ridge(alpha=10.0)\n",
      "res1 = ridge.fit(X_train,Y_train)\n",
      "# The mean absolute error\n",
      "MAE_ridge = np.mean(np.abs(res1.predict(X_test) - Y_test))\n",
      "print ('MAE for ridge is  : %0.4f' % MAE_ridge)"
     ],
     "language": "python",
     "metadata": {},
     "outputs": [
      {
       "output_type": "stream",
       "stream": "stdout",
       "text": [
        "MAE for Lasso is  : 0.7337\n",
        "MAE for ridge is  : 0.6800"
       ]
      },
      {
       "output_type": "stream",
       "stream": "stdout",
       "text": [
        "\n"
       ]
      }
     ],
     "prompt_number": 26
    },
    {
     "cell_type": "code",
     "collapsed": false,
     "input": [
      "#####print the coefficient \n",
      "coef = res1.coef_.ravel()\n",
      "print res.coef_  ###Lasso coef\n",
      "print coef      ###Ridge coef"
     ],
     "language": "python",
     "metadata": {},
     "outputs": [
      {
       "output_type": "stream",
       "stream": "stdout",
       "text": [
        "[ 1.31786708  0.13622621 -0.26292452 ...,  0.          0.          0.        ]\n",
        "[ 1.01298412  0.4344819  -0.31550402 ...,  0.          0.          0.        ]\n"
       ]
      }
     ],
     "prompt_number": 27
    },
    {
     "cell_type": "code",
     "collapsed": false,
     "input": [
      "#####Overall influence######\n",
      "\n",
      "###choose the Ridge Regression \n",
      "genre_sort_asc = np.argsort(coef)\n",
      "genre_sort_desc = np.argsort(coef)[::-1][:n]\n",
      "\n",
      "\n",
      "#The Posotive top 10 features and wights\n",
      "f_pos = X.columns.values[genre_sort_desc][:10]\n",
      "w_pos = coef[np.argsort(coef)[::-1][:n][:10]]\n",
      "a = pd.DataFrame({'Pos_features': f_pos})\n",
      "b = pd.DataFrame({'Pos_weights': w_pos})\n",
      "print a.join(b)"
     ],
     "language": "python",
     "metadata": {},
     "outputs": [
      {
       "output_type": "stream",
       "stream": "stdout",
       "text": [
        "            Pos_features  Pos_weights\n",
        "0             meanrating     1.012984\n",
        "1             rating_num     0.434482\n",
        "2  french foreign legion     0.246461\n",
        "3                    War     0.236187\n",
        "4              Christmas     0.234418\n",
        "5                 Sci-Fi     0.230679\n",
        "6  based on a true story     0.217049\n",
        "7          San Francisco     0.216031\n",
        "8             sophomoric     0.207880\n",
        "9                    WWI     0.198601\n"
       ]
      }
     ],
     "prompt_number": 28
    },
    {
     "cell_type": "code",
     "collapsed": false,
     "input": [
      "#The Negative top 10 features and weights\n",
      "f_neg = X.columns.values[genre_sort_asc][:10]\n",
      "w_neg = coef[np.argsort(coef)[:10]]\n",
      "\n",
      "c = pd.DataFrame({'Neg_features': f_neg})\n",
      "d = pd.DataFrame({'Neg_weights': w_neg})\n",
      "print c.join(d)"
     ],
     "language": "python",
     "metadata": {},
     "outputs": [
      {
       "output_type": "stream",
       "stream": "stdout",
       "text": [
        "         Neg_features  Neg_weights\n",
        "0         Documentary    -0.669187\n",
        "1           Animation    -0.356462\n",
        "2     based on a book    -0.328954\n",
        "3              Action    -0.315504\n",
        "4                dumb    -0.267739\n",
        "5            gambling    -0.261286\n",
        "6             widower    -0.241677\n",
        "7  liberal propaganda    -0.240274\n",
        "8              quirky    -0.235317\n",
        "9       New York City    -0.227942\n"
       ]
      }
     ],
     "prompt_number": 29
    },
    {
     "cell_type": "code",
     "collapsed": false,
     "input": [
      "#####print only Genre information#####\n",
      "#The positive top 10 genre features\n",
      "genre_sort_desc1 = np.argsort(coef[2:21])[::-1][:n]\n",
      "pos_gen_feature= X.columns.values[2:21][genre_sort_desc1][:10]\n",
      "pos_gen_weight = sorted(coef[2:21], reverse=True)[:10]\n",
      "\n",
      "a1 = pd.DataFrame({'Pos_Genres': pos_gen_feature})\n",
      "b1 = pd.DataFrame({'Pos_weights': pos_gen_weight})\n",
      "print a1.join(b1)\n"
     ],
     "language": "python",
     "metadata": {},
     "outputs": [
      {
       "output_type": "stream",
       "stream": "stdout",
       "text": [
        "  Pos_Genres  Pos_weights\n",
        "0        War     0.236187\n",
        "1     Sci-Fi     0.230679\n",
        "2   Thriller     0.156875\n",
        "3    Mystery     0.143630\n",
        "4    Western     0.122938\n",
        "5  Film-Noir     0.099386\n",
        "6     Comedy     0.088612\n",
        "7    Romance     0.075864\n",
        "8      Drama     0.061929\n",
        "9   Children     0.036389\n"
       ]
      }
     ],
     "prompt_number": 30
    },
    {
     "cell_type": "code",
     "collapsed": false,
     "input": [
      "#The Negative top 10 genre features\n",
      "genre_sort_asc1 = np.argsort(coef[2:21])\n",
      "neg_gen_feature= X.columns.values[2:21][genre_sort_asc1][:10]\n",
      "neg_gen_weight = sorted(coef[2:21])[:10]\n",
      "\n",
      "c1 = pd.DataFrame({'Neg_Genres': neg_gen_feature})\n",
      "d1 = pd.DataFrame({'Neg_weights': neg_gen_weight})\n",
      "print c1.join(d1)"
     ],
     "language": "python",
     "metadata": {},
     "outputs": [
      {
       "output_type": "stream",
       "stream": "stdout",
       "text": [
        "    Neg_Genres  Neg_weights\n",
        "0  Documentary    -0.669187\n",
        "1    Animation    -0.356462\n",
        "2       Action    -0.315504\n",
        "3        Crime    -0.147824\n",
        "4      Fantasy    -0.104137\n",
        "5      Musical    -0.059330\n",
        "6    Adventure    -0.037063\n",
        "7       Horror     0.024451\n",
        "8         IMAX     0.028397\n",
        "9     Children     0.036389\n"
       ]
      }
     ],
     "prompt_number": 31
    },
    {
     "cell_type": "code",
     "collapsed": false,
     "input": [
      "#####Print only tag information \n",
      "\n",
      "#The positive top 10 tag features\n",
      "genre_sort_desc2 = np.argsort(coef[21:])[::-1][:n]\n",
      "pos_tag_feature= X.columns.values[21:][genre_sort_desc2][:10]\n",
      "pos_tag_weight = sorted(coef[21:], reverse=True)[:10]\n",
      "\n",
      "a2 = pd.DataFrame({'Pos_Tags': pos_tag_feature})\n",
      "b2 = pd.DataFrame({'Pos_weights': pos_tag_weight})\n",
      "print a2.join(b2)"
     ],
     "language": "python",
     "metadata": {},
     "outputs": [
      {
       "output_type": "stream",
       "stream": "stdout",
       "text": [
        "                Pos_Tags  Pos_weights\n",
        "0  french foreign legion     0.246461\n",
        "1              Christmas     0.234418\n",
        "2  based on a true story     0.217049\n",
        "3          San Francisco     0.216031\n",
        "4             sophomoric     0.207880\n",
        "5                    WWI     0.198601\n",
        "6                  ranch     0.195988\n",
        "7          serial killer     0.193088\n",
        "8         figure skating     0.191467\n",
        "9                 heroes     0.189016\n"
       ]
      }
     ],
     "prompt_number": 32
    },
    {
     "cell_type": "code",
     "collapsed": false,
     "input": [
      "#The Negative top 10 tag features\n",
      "genre_sort_asc2 = np.argsort(coef[21:])\n",
      "neg_tag_feature= X.columns.values[21:][genre_sort_asc2][:10]\n",
      "neg_tag_weight = sorted(coef[21:])[:10]\n",
      "\n",
      "c2 = pd.DataFrame({'Neg_Tags': neg_tag_feature})\n",
      "d2 = pd.DataFrame({'Neg_weights': neg_tag_weight})\n",
      "print c2.join(d2)"
     ],
     "language": "python",
     "metadata": {},
     "outputs": [
      {
       "output_type": "stream",
       "stream": "stdout",
       "text": [
        "             Neg_Tags  Neg_weights\n",
        "0     based on a book    -0.328954\n",
        "1                dumb    -0.267739\n",
        "2            gambling    -0.261286\n",
        "3             widower    -0.241677\n",
        "4  liberal propaganda    -0.240274\n",
        "5              quirky    -0.235317\n",
        "6       New York City    -0.227942\n",
        "7              Marvel    -0.223207\n",
        "8      alien invasion    -0.222574\n",
        "9           CANNIBALS    -0.217756\n"
       ]
      }
     ],
     "prompt_number": 33
    },
    {
     "cell_type": "code",
     "collapsed": false,
     "input": [],
     "language": "python",
     "metadata": {},
     "outputs": [],
     "prompt_number": 33
    },
    {
     "cell_type": "code",
     "collapsed": false,
     "input": [],
     "language": "python",
     "metadata": {},
     "outputs": [],
     "prompt_number": 33
    }
   ],
   "metadata": {}
  }
 ]
}